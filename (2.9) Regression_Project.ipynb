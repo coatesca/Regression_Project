{
 "cells": [
  {
   "cell_type": "markdown",
   "id": "80ed0d7b-5799-4661-99a0-b0b223d919aa",
   "metadata": {},
   "source": [
    "## Imports"
   ]
  },
  {
   "cell_type": "code",
   "execution_count": 2,
   "id": "b164546c-9630-424b-82e8-05fb9b2f1dc0",
   "metadata": {},
   "outputs": [],
   "source": [
    "# Imports \n",
    "\n",
    "import numpy as np\n",
    "import pandas as pd\n",
    "import seaborn as sns\n",
    "import matplotlib.pyplot as plt\n",
    "from sklearn.preprocessing import OneHotEncoder\n",
    "from sklearn.model_selection import train_test_split\n",
    "from sklearn.preprocessing import StandardScaler\n",
    "from sklearn.linear_model import LassoCV\n",
    "from sklearn.preprocessing import PolynomialFeatures\n",
    "from sklearn.metrics import mean_absolute_error,mean_squared_error\n",
    "from sklearn.linear_model import ElasticNetCV\n",
    "from sklearn.linear_model import ElasticNet\n",
    "from sklearn.linear_model import RidgeCV\n",
    "from sklearn.model_selection import GridSearchCV\n",
    "from scipy import stats\n",
    "from sklearn.linear_model import LinearRegression"
   ]
  },
  {
   "cell_type": "markdown",
   "id": "d47f40a3-40f2-456c-a0e9-bd336ad8baf8",
   "metadata": {},
   "source": [
    "## EDA"
   ]
  },
  {
   "cell_type": "code",
   "execution_count": 4,
   "id": "361f867b-5f44-4eb4-9c55-6d08670f5692",
   "metadata": {},
   "outputs": [],
   "source": [
    "# Load Data\n",
    "\n",
    "df = pd.read_csv(\"../Bootcamp Data/canada_rent.csv\")"
   ]
  },
  {
   "cell_type": "code",
   "execution_count": 5,
   "id": "85ab0ed2-376d-4870-aaa2-24ba9de957d5",
   "metadata": {},
   "outputs": [
    {
     "name": "stdout",
     "output_type": "stream",
     "text": [
      "<class 'pandas.core.frame.DataFrame'>\n",
      "RangeIndex: 25771 entries, 0 to 25770\n",
      "Data columns (total 18 columns):\n",
      " #   Column             Non-Null Count  Dtype  \n",
      "---  ------             --------------  -----  \n",
      " 0   rentfaster_id      25771 non-null  int64  \n",
      " 1   city               25771 non-null  object \n",
      " 2   province           25771 non-null  object \n",
      " 3   address            25646 non-null  object \n",
      " 4   latitude           25771 non-null  float64\n",
      " 5   longitude          25771 non-null  float64\n",
      " 6   lease_term         25725 non-null  object \n",
      " 7   type               25771 non-null  object \n",
      " 8   price              25771 non-null  float64\n",
      " 9   beds               25639 non-null  object \n",
      " 10  baths              25637 non-null  object \n",
      " 11  sq_feet            21659 non-null  object \n",
      " 12  link               25771 non-null  object \n",
      " 13  furnishing         25771 non-null  object \n",
      " 14  availability_date  25759 non-null  object \n",
      " 15  smoking            23069 non-null  object \n",
      " 16  cats               25598 non-null  object \n",
      " 17  dogs               25598 non-null  object \n",
      "dtypes: float64(3), int64(1), object(14)\n",
      "memory usage: 3.5+ MB\n"
     ]
    }
   ],
   "source": [
    "df.info()"
   ]
  },
  {
   "cell_type": "code",
   "execution_count": 6,
   "id": "60502a2a-fb65-45d8-b0c4-7920dd29be02",
   "metadata": {},
   "outputs": [
    {
     "data": {
      "text/html": [
       "<div>\n",
       "<style scoped>\n",
       "    .dataframe tbody tr th:only-of-type {\n",
       "        vertical-align: middle;\n",
       "    }\n",
       "\n",
       "    .dataframe tbody tr th {\n",
       "        vertical-align: top;\n",
       "    }\n",
       "\n",
       "    .dataframe thead th {\n",
       "        text-align: right;\n",
       "    }\n",
       "</style>\n",
       "<table border=\"1\" class=\"dataframe\">\n",
       "  <thead>\n",
       "    <tr style=\"text-align: right;\">\n",
       "      <th></th>\n",
       "      <th>rentfaster_id</th>\n",
       "      <th>city</th>\n",
       "      <th>province</th>\n",
       "      <th>address</th>\n",
       "      <th>latitude</th>\n",
       "      <th>longitude</th>\n",
       "      <th>lease_term</th>\n",
       "      <th>type</th>\n",
       "      <th>price</th>\n",
       "      <th>beds</th>\n",
       "      <th>baths</th>\n",
       "      <th>sq_feet</th>\n",
       "      <th>link</th>\n",
       "      <th>furnishing</th>\n",
       "      <th>availability_date</th>\n",
       "      <th>smoking</th>\n",
       "      <th>cats</th>\n",
       "      <th>dogs</th>\n",
       "    </tr>\n",
       "  </thead>\n",
       "  <tbody>\n",
       "    <tr>\n",
       "      <th>0</th>\n",
       "      <td>468622</td>\n",
       "      <td>Airdrie</td>\n",
       "      <td>Alberta</td>\n",
       "      <td>69 Gateway Dr NE</td>\n",
       "      <td>51.305962</td>\n",
       "      <td>-114.012515</td>\n",
       "      <td>Long Term</td>\n",
       "      <td>Townhouse</td>\n",
       "      <td>2495.0</td>\n",
       "      <td>2 Beds</td>\n",
       "      <td>2.5</td>\n",
       "      <td>1403</td>\n",
       "      <td>/ab/airdrie/rentals/townhouse/2-bedrooms/pet-f...</td>\n",
       "      <td>Unfurnished</td>\n",
       "      <td>Immediate</td>\n",
       "      <td>Non-Smoking</td>\n",
       "      <td>True</td>\n",
       "      <td>True</td>\n",
       "    </tr>\n",
       "    <tr>\n",
       "      <th>1</th>\n",
       "      <td>468622</td>\n",
       "      <td>Airdrie</td>\n",
       "      <td>Alberta</td>\n",
       "      <td>69 Gateway Dr NE</td>\n",
       "      <td>51.305962</td>\n",
       "      <td>-114.012515</td>\n",
       "      <td>Long Term</td>\n",
       "      <td>Townhouse</td>\n",
       "      <td>2695.0</td>\n",
       "      <td>3 Beds</td>\n",
       "      <td>2.5</td>\n",
       "      <td>1496</td>\n",
       "      <td>/ab/airdrie/rentals/townhouse/2-bedrooms/pet-f...</td>\n",
       "      <td>Unfurnished</td>\n",
       "      <td>Immediate</td>\n",
       "      <td>Non-Smoking</td>\n",
       "      <td>True</td>\n",
       "      <td>True</td>\n",
       "    </tr>\n",
       "    <tr>\n",
       "      <th>2</th>\n",
       "      <td>468622</td>\n",
       "      <td>Airdrie</td>\n",
       "      <td>Alberta</td>\n",
       "      <td>69 Gateway Dr NE</td>\n",
       "      <td>51.305962</td>\n",
       "      <td>-114.012515</td>\n",
       "      <td>Long Term</td>\n",
       "      <td>Townhouse</td>\n",
       "      <td>2295.0</td>\n",
       "      <td>2 Beds</td>\n",
       "      <td>2.5</td>\n",
       "      <td>1180</td>\n",
       "      <td>/ab/airdrie/rentals/townhouse/2-bedrooms/pet-f...</td>\n",
       "      <td>Unfurnished</td>\n",
       "      <td>Immediate</td>\n",
       "      <td>Non-Smoking</td>\n",
       "      <td>True</td>\n",
       "      <td>True</td>\n",
       "    </tr>\n",
       "    <tr>\n",
       "      <th>3</th>\n",
       "      <td>468622</td>\n",
       "      <td>Airdrie</td>\n",
       "      <td>Alberta</td>\n",
       "      <td>69 Gateway Dr NE</td>\n",
       "      <td>51.305962</td>\n",
       "      <td>-114.012515</td>\n",
       "      <td>Long Term</td>\n",
       "      <td>Townhouse</td>\n",
       "      <td>2095.0</td>\n",
       "      <td>2 Beds</td>\n",
       "      <td>2.5</td>\n",
       "      <td>1403</td>\n",
       "      <td>/ab/airdrie/rentals/townhouse/2-bedrooms/pet-f...</td>\n",
       "      <td>Unfurnished</td>\n",
       "      <td>November 18</td>\n",
       "      <td>Non-Smoking</td>\n",
       "      <td>True</td>\n",
       "      <td>True</td>\n",
       "    </tr>\n",
       "    <tr>\n",
       "      <th>4</th>\n",
       "      <td>468622</td>\n",
       "      <td>Airdrie</td>\n",
       "      <td>Alberta</td>\n",
       "      <td>69 Gateway Dr NE</td>\n",
       "      <td>51.305962</td>\n",
       "      <td>-114.012515</td>\n",
       "      <td>Long Term</td>\n",
       "      <td>Townhouse</td>\n",
       "      <td>2495.0</td>\n",
       "      <td>2 Beds</td>\n",
       "      <td>2.5</td>\n",
       "      <td>1403</td>\n",
       "      <td>/ab/airdrie/rentals/townhouse/2-bedrooms/pet-f...</td>\n",
       "      <td>Unfurnished</td>\n",
       "      <td>Immediate</td>\n",
       "      <td>Non-Smoking</td>\n",
       "      <td>True</td>\n",
       "      <td>True</td>\n",
       "    </tr>\n",
       "  </tbody>\n",
       "</table>\n",
       "</div>"
      ],
      "text/plain": [
       "   rentfaster_id     city province           address   latitude   longitude  \\\n",
       "0         468622  Airdrie  Alberta  69 Gateway Dr NE  51.305962 -114.012515   \n",
       "1         468622  Airdrie  Alberta  69 Gateway Dr NE  51.305962 -114.012515   \n",
       "2         468622  Airdrie  Alberta  69 Gateway Dr NE  51.305962 -114.012515   \n",
       "3         468622  Airdrie  Alberta  69 Gateway Dr NE  51.305962 -114.012515   \n",
       "4         468622  Airdrie  Alberta  69 Gateway Dr NE  51.305962 -114.012515   \n",
       "\n",
       "  lease_term       type   price    beds baths sq_feet  \\\n",
       "0  Long Term  Townhouse  2495.0  2 Beds   2.5    1403   \n",
       "1  Long Term  Townhouse  2695.0  3 Beds   2.5    1496   \n",
       "2  Long Term  Townhouse  2295.0  2 Beds   2.5    1180   \n",
       "3  Long Term  Townhouse  2095.0  2 Beds   2.5    1403   \n",
       "4  Long Term  Townhouse  2495.0  2 Beds   2.5    1403   \n",
       "\n",
       "                                                link   furnishing  \\\n",
       "0  /ab/airdrie/rentals/townhouse/2-bedrooms/pet-f...  Unfurnished   \n",
       "1  /ab/airdrie/rentals/townhouse/2-bedrooms/pet-f...  Unfurnished   \n",
       "2  /ab/airdrie/rentals/townhouse/2-bedrooms/pet-f...  Unfurnished   \n",
       "3  /ab/airdrie/rentals/townhouse/2-bedrooms/pet-f...  Unfurnished   \n",
       "4  /ab/airdrie/rentals/townhouse/2-bedrooms/pet-f...  Unfurnished   \n",
       "\n",
       "  availability_date      smoking  cats  dogs  \n",
       "0         Immediate  Non-Smoking  True  True  \n",
       "1         Immediate  Non-Smoking  True  True  \n",
       "2         Immediate  Non-Smoking  True  True  \n",
       "3       November 18  Non-Smoking  True  True  \n",
       "4         Immediate  Non-Smoking  True  True  "
      ]
     },
     "execution_count": 6,
     "metadata": {},
     "output_type": "execute_result"
    }
   ],
   "source": [
    "df.head()"
   ]
  },
  {
   "cell_type": "code",
   "execution_count": 7,
   "id": "596967ee-6ab0-4164-97b2-ac6ac1c44475",
   "metadata": {},
   "outputs": [
    {
     "data": {
      "text/html": [
       "<div>\n",
       "<style scoped>\n",
       "    .dataframe tbody tr th:only-of-type {\n",
       "        vertical-align: middle;\n",
       "    }\n",
       "\n",
       "    .dataframe tbody tr th {\n",
       "        vertical-align: top;\n",
       "    }\n",
       "\n",
       "    .dataframe thead th {\n",
       "        text-align: right;\n",
       "    }\n",
       "</style>\n",
       "<table border=\"1\" class=\"dataframe\">\n",
       "  <thead>\n",
       "    <tr style=\"text-align: right;\">\n",
       "      <th></th>\n",
       "      <th>rentfaster_id</th>\n",
       "      <th>city</th>\n",
       "      <th>province</th>\n",
       "      <th>address</th>\n",
       "      <th>latitude</th>\n",
       "      <th>longitude</th>\n",
       "      <th>lease_term</th>\n",
       "      <th>type</th>\n",
       "      <th>price</th>\n",
       "      <th>beds</th>\n",
       "      <th>baths</th>\n",
       "      <th>sq_feet</th>\n",
       "      <th>link</th>\n",
       "      <th>furnishing</th>\n",
       "      <th>availability_date</th>\n",
       "      <th>smoking</th>\n",
       "      <th>cats</th>\n",
       "      <th>dogs</th>\n",
       "    </tr>\n",
       "  </thead>\n",
       "  <tbody>\n",
       "    <tr>\n",
       "      <th>25766</th>\n",
       "      <td>334285</td>\n",
       "      <td>Yorkton</td>\n",
       "      <td>Saskatchewan</td>\n",
       "      <td>18 Allanbrooke Dr</td>\n",
       "      <td>51.203024</td>\n",
       "      <td>-102.484782</td>\n",
       "      <td>Long Term</td>\n",
       "      <td>Apartment</td>\n",
       "      <td>920.0</td>\n",
       "      <td>Studio</td>\n",
       "      <td>1</td>\n",
       "      <td>400</td>\n",
       "      <td>/sk/yorkton/rentals/apartment/3-bedrooms/pet-f...</td>\n",
       "      <td>Unfurnished</td>\n",
       "      <td>Immediate</td>\n",
       "      <td>Non-Smoking</td>\n",
       "      <td>True</td>\n",
       "      <td>True</td>\n",
       "    </tr>\n",
       "    <tr>\n",
       "      <th>25767</th>\n",
       "      <td>334285</td>\n",
       "      <td>Yorkton</td>\n",
       "      <td>Saskatchewan</td>\n",
       "      <td>18 Allanbrooke Dr</td>\n",
       "      <td>51.203024</td>\n",
       "      <td>-102.484782</td>\n",
       "      <td>Long Term</td>\n",
       "      <td>Apartment</td>\n",
       "      <td>1450.0</td>\n",
       "      <td>3 Beds</td>\n",
       "      <td>1</td>\n",
       "      <td>810</td>\n",
       "      <td>/sk/yorkton/rentals/apartment/3-bedrooms/pet-f...</td>\n",
       "      <td>Unfurnished</td>\n",
       "      <td>Immediate</td>\n",
       "      <td>Non-Smoking</td>\n",
       "      <td>True</td>\n",
       "      <td>True</td>\n",
       "    </tr>\n",
       "    <tr>\n",
       "      <th>25768</th>\n",
       "      <td>334284</td>\n",
       "      <td>Yorkton</td>\n",
       "      <td>Saskatchewan</td>\n",
       "      <td>363 Northview Rd</td>\n",
       "      <td>51.202667</td>\n",
       "      <td>-102.485765</td>\n",
       "      <td>Long Term</td>\n",
       "      <td>Apartment</td>\n",
       "      <td>1125.0</td>\n",
       "      <td>1 Bed</td>\n",
       "      <td>1</td>\n",
       "      <td>520</td>\n",
       "      <td>/sk/yorkton/rentals/apartment/1-bedroom/pet-fr...</td>\n",
       "      <td>Unfurnished</td>\n",
       "      <td>Immediate</td>\n",
       "      <td>Non-Smoking</td>\n",
       "      <td>True</td>\n",
       "      <td>True</td>\n",
       "    </tr>\n",
       "    <tr>\n",
       "      <th>25769</th>\n",
       "      <td>334284</td>\n",
       "      <td>Yorkton</td>\n",
       "      <td>Saskatchewan</td>\n",
       "      <td>363 Northview Rd</td>\n",
       "      <td>51.202667</td>\n",
       "      <td>-102.485765</td>\n",
       "      <td>Long Term</td>\n",
       "      <td>Apartment</td>\n",
       "      <td>920.0</td>\n",
       "      <td>Studio</td>\n",
       "      <td>1</td>\n",
       "      <td>400</td>\n",
       "      <td>/sk/yorkton/rentals/apartment/1-bedroom/pet-fr...</td>\n",
       "      <td>Unfurnished</td>\n",
       "      <td>Immediate</td>\n",
       "      <td>Non-Smoking</td>\n",
       "      <td>True</td>\n",
       "      <td>True</td>\n",
       "    </tr>\n",
       "    <tr>\n",
       "      <th>25770</th>\n",
       "      <td>334284</td>\n",
       "      <td>Yorkton</td>\n",
       "      <td>Saskatchewan</td>\n",
       "      <td>363 Northview Rd</td>\n",
       "      <td>51.202667</td>\n",
       "      <td>-102.485765</td>\n",
       "      <td>Long Term</td>\n",
       "      <td>Apartment</td>\n",
       "      <td>1285.0</td>\n",
       "      <td>2 Beds</td>\n",
       "      <td>1</td>\n",
       "      <td>700</td>\n",
       "      <td>/sk/yorkton/rentals/apartment/1-bedroom/pet-fr...</td>\n",
       "      <td>Unfurnished</td>\n",
       "      <td>Immediate</td>\n",
       "      <td>Non-Smoking</td>\n",
       "      <td>True</td>\n",
       "      <td>True</td>\n",
       "    </tr>\n",
       "  </tbody>\n",
       "</table>\n",
       "</div>"
      ],
      "text/plain": [
       "       rentfaster_id     city      province            address   latitude  \\\n",
       "25766         334285  Yorkton  Saskatchewan  18 Allanbrooke Dr  51.203024   \n",
       "25767         334285  Yorkton  Saskatchewan  18 Allanbrooke Dr  51.203024   \n",
       "25768         334284  Yorkton  Saskatchewan   363 Northview Rd  51.202667   \n",
       "25769         334284  Yorkton  Saskatchewan   363 Northview Rd  51.202667   \n",
       "25770         334284  Yorkton  Saskatchewan   363 Northview Rd  51.202667   \n",
       "\n",
       "        longitude lease_term       type   price    beds baths sq_feet  \\\n",
       "25766 -102.484782  Long Term  Apartment   920.0  Studio     1     400   \n",
       "25767 -102.484782  Long Term  Apartment  1450.0  3 Beds     1     810   \n",
       "25768 -102.485765  Long Term  Apartment  1125.0   1 Bed     1     520   \n",
       "25769 -102.485765  Long Term  Apartment   920.0  Studio     1     400   \n",
       "25770 -102.485765  Long Term  Apartment  1285.0  2 Beds     1     700   \n",
       "\n",
       "                                                    link   furnishing  \\\n",
       "25766  /sk/yorkton/rentals/apartment/3-bedrooms/pet-f...  Unfurnished   \n",
       "25767  /sk/yorkton/rentals/apartment/3-bedrooms/pet-f...  Unfurnished   \n",
       "25768  /sk/yorkton/rentals/apartment/1-bedroom/pet-fr...  Unfurnished   \n",
       "25769  /sk/yorkton/rentals/apartment/1-bedroom/pet-fr...  Unfurnished   \n",
       "25770  /sk/yorkton/rentals/apartment/1-bedroom/pet-fr...  Unfurnished   \n",
       "\n",
       "      availability_date      smoking  cats  dogs  \n",
       "25766         Immediate  Non-Smoking  True  True  \n",
       "25767         Immediate  Non-Smoking  True  True  \n",
       "25768         Immediate  Non-Smoking  True  True  \n",
       "25769         Immediate  Non-Smoking  True  True  \n",
       "25770         Immediate  Non-Smoking  True  True  "
      ]
     },
     "execution_count": 7,
     "metadata": {},
     "output_type": "execute_result"
    }
   ],
   "source": [
    "df.tail()"
   ]
  },
  {
   "cell_type": "code",
   "execution_count": 8,
   "id": "d9d01680-76ac-4dbf-96e0-85f179694340",
   "metadata": {},
   "outputs": [
    {
     "data": {
      "text/html": [
       "<div>\n",
       "<style scoped>\n",
       "    .dataframe tbody tr th:only-of-type {\n",
       "        vertical-align: middle;\n",
       "    }\n",
       "\n",
       "    .dataframe tbody tr th {\n",
       "        vertical-align: top;\n",
       "    }\n",
       "\n",
       "    .dataframe thead th {\n",
       "        text-align: right;\n",
       "    }\n",
       "</style>\n",
       "<table border=\"1\" class=\"dataframe\">\n",
       "  <thead>\n",
       "    <tr style=\"text-align: right;\">\n",
       "      <th></th>\n",
       "      <th>rentfaster_id</th>\n",
       "      <th>latitude</th>\n",
       "      <th>longitude</th>\n",
       "      <th>price</th>\n",
       "    </tr>\n",
       "  </thead>\n",
       "  <tbody>\n",
       "    <tr>\n",
       "      <th>count</th>\n",
       "      <td>25771.000000</td>\n",
       "      <td>25771.000000</td>\n",
       "      <td>25771.000000</td>\n",
       "      <td>25771.000000</td>\n",
       "    </tr>\n",
       "    <tr>\n",
       "      <th>mean</th>\n",
       "      <td>471913.795274</td>\n",
       "      <td>48.903370</td>\n",
       "      <td>-100.332196</td>\n",
       "      <td>2151.624142</td>\n",
       "    </tr>\n",
       "    <tr>\n",
       "      <th>std</th>\n",
       "      <td>120330.335865</td>\n",
       "      <td>3.603257</td>\n",
       "      <td>17.917001</td>\n",
       "      <td>972.820941</td>\n",
       "    </tr>\n",
       "    <tr>\n",
       "      <th>min</th>\n",
       "      <td>820.000000</td>\n",
       "      <td>40.741802</td>\n",
       "      <td>-128.661880</td>\n",
       "      <td>0.000000</td>\n",
       "    </tr>\n",
       "    <tr>\n",
       "      <th>25%</th>\n",
       "      <td>415749.000000</td>\n",
       "      <td>45.418785</td>\n",
       "      <td>-114.074660</td>\n",
       "      <td>1600.000000</td>\n",
       "    </tr>\n",
       "    <tr>\n",
       "      <th>50%</th>\n",
       "      <td>522379.000000</td>\n",
       "      <td>50.913739</td>\n",
       "      <td>-113.513905</td>\n",
       "      <td>2045.000000</td>\n",
       "    </tr>\n",
       "    <tr>\n",
       "      <th>75%</th>\n",
       "      <td>563397.500000</td>\n",
       "      <td>51.093585</td>\n",
       "      <td>-79.401311</td>\n",
       "      <td>2550.000000</td>\n",
       "    </tr>\n",
       "    <tr>\n",
       "      <th>max</th>\n",
       "      <td>572635.000000</td>\n",
       "      <td>62.459246</td>\n",
       "      <td>-52.695472</td>\n",
       "      <td>29990.000000</td>\n",
       "    </tr>\n",
       "  </tbody>\n",
       "</table>\n",
       "</div>"
      ],
      "text/plain": [
       "       rentfaster_id      latitude     longitude         price\n",
       "count   25771.000000  25771.000000  25771.000000  25771.000000\n",
       "mean   471913.795274     48.903370   -100.332196   2151.624142\n",
       "std    120330.335865      3.603257     17.917001    972.820941\n",
       "min       820.000000     40.741802   -128.661880      0.000000\n",
       "25%    415749.000000     45.418785   -114.074660   1600.000000\n",
       "50%    522379.000000     50.913739   -113.513905   2045.000000\n",
       "75%    563397.500000     51.093585    -79.401311   2550.000000\n",
       "max    572635.000000     62.459246    -52.695472  29990.000000"
      ]
     },
     "execution_count": 8,
     "metadata": {},
     "output_type": "execute_result"
    }
   ],
   "source": [
    "df.describe()"
   ]
  },
  {
   "cell_type": "code",
   "execution_count": 9,
   "id": "64b8cef0-5e9c-493d-aa62-5a287f2ff2af",
   "metadata": {},
   "outputs": [
    {
     "data": {
      "text/plain": [
       "rentfaster_id           0\n",
       "city                    0\n",
       "province                0\n",
       "address               125\n",
       "latitude                0\n",
       "longitude               0\n",
       "lease_term             46\n",
       "type                    0\n",
       "price                   0\n",
       "beds                  132\n",
       "baths                 134\n",
       "sq_feet              4112\n",
       "link                    0\n",
       "furnishing              0\n",
       "availability_date      12\n",
       "smoking              2702\n",
       "cats                  173\n",
       "dogs                  173\n",
       "dtype: int64"
      ]
     },
     "execution_count": 9,
     "metadata": {},
     "output_type": "execute_result"
    }
   ],
   "source": [
    "df.isnull().sum()"
   ]
  },
  {
   "cell_type": "markdown",
   "id": "c4875577-94a8-4433-902e-2307de43c6fc",
   "metadata": {},
   "source": [
    "## Data Preparation"
   ]
  },
  {
   "cell_type": "code",
   "execution_count": 11,
   "id": "ea984f2c-ac16-49df-aea0-2b20c750e8e5",
   "metadata": {},
   "outputs": [],
   "source": [
    "# Dropping categories with missing data, repetitive data, or unneeded data\n",
    "\n",
    "df = df.drop('address', axis=1)\n",
    "df = df.drop('link', axis=1)\n",
    "df = df.drop('rentfaster_id', axis=1)\n",
    "df = df.drop('latitude', axis=1)\n",
    "df = df.drop('longitude', axis=1)"
   ]
  },
  {
   "cell_type": "code",
   "execution_count": 12,
   "id": "dd3e18d3-cfc4-417c-9cd1-63f7fbc72453",
   "metadata": {},
   "outputs": [],
   "source": [
    "# Handling missing data and changing dtypes\n",
    "\n",
    "# Lease_term: filling nans with mode\n",
    "\n",
    "df['lease_term'].mode()\n",
    "df['lease_term'] = df['lease_term'].fillna(value='Long Term')\n",
    "\n",
    "# Baths: converting to numeric and filling nans with mode\n",
    "\n",
    "df['baths'] = pd.to_numeric(df['baths'],errors = 'coerce')\n",
    "df['baths'].mode()\n",
    "df['baths'] = df['baths'].fillna(value=1)\n",
    "\n",
    "# Availability_date: filling nans with mode\n",
    "\n",
    "df['availability_date'].mode()\n",
    "df['availability_date'] = df['availability_date'].fillna(value='Immediate')\n",
    "\n",
    "# Cats: filling nans with mode\n",
    "\n",
    "df['cats'].mode()\n",
    "df['cats'] = df['cats'].fillna(value=True)\n",
    "\n",
    "# Dogs: filling nans with mode\n",
    "\n",
    "df['dogs'].mode()\n",
    "df['dogs'] = df['dogs'].fillna(value=True)\n",
    "\n",
    "# Smoking: filling nans with mode\n",
    "\n",
    "df['smoking'].mode()\n",
    "df['smoking'] = df['smoking'].fillna(value='Non-Smoking')\n",
    "\n",
    "# Sq_feet: converting to numeric and filling with mean\n",
    "\n",
    "df['sq_feet'] = pd.to_numeric(df['sq_feet'],errors = 'coerce')\n",
    "df['sq_feet'].mean()\n",
    "df['sq_feet'] = df['sq_feet'].fillna(value=886)\n",
    "\n",
    "# Beds: filling nans with mode and converting to numeric\n",
    "\n",
    "df['beds'].mode()\n",
    "df['beds'] = df['beds'].fillna(value='2 Beds')\n",
    "\n",
    "df['beds'].replace('1 Bed', 1, inplace=True)\n",
    "df['beds'].replace('2 Beds', 2, inplace=True)\n",
    "df['beds'].replace('3 Beds', 3, inplace=True)\n",
    "df['beds'].replace('4 Beds', 4, inplace=True)\n",
    "df['beds'].replace('5 Beds', 5, inplace=True)\n",
    "df['beds'].replace('6 Beds', 6, inplace=True)\n",
    "df['beds'].replace('7 Beds', 7, inplace=True)\n",
    "df['beds'].replace('8 Beds', 8, inplace=True)\n",
    "df['beds'].replace('9 Beds', 9, inplace=True)"
   ]
  },
  {
   "cell_type": "code",
   "execution_count": 13,
   "id": "2e0db3ea-7300-4ca0-9c16-0de445440da2",
   "metadata": {},
   "outputs": [],
   "source": [
    "# Adjusting repetitive values\n",
    "\n",
    "# Smoking: combining 'Non-Smoking' and 'Smoke Free Building'\n",
    "\n",
    "df['smoking'].replace('Smoke Free Building', 'Non-Smoking', inplace=True)\n",
    "    \n",
    "# Baths: combining '0' and 'None'\n",
    "\n",
    "df['baths'].replace('none', 0, inplace=True)\n",
    "df['baths'].astype(float)\n",
    "\n",
    "# Beds: combining 0 and 'Studio' and converting to numeric \n",
    "\n",
    "df['beds'].replace('none Beds', 0, inplace=True)\n",
    "df['beds'].replace('Studio', 0, inplace=True)"
   ]
  },
  {
   "cell_type": "code",
   "execution_count": 14,
   "id": "93dc7668-245e-40f4-9990-51d25a6f40c5",
   "metadata": {},
   "outputs": [
    {
     "data": {
      "text/plain": [
       "city                 0\n",
       "province             0\n",
       "lease_term           0\n",
       "type                 0\n",
       "price                0\n",
       "beds                 0\n",
       "baths                0\n",
       "sq_feet              0\n",
       "furnishing           0\n",
       "availability_date    0\n",
       "smoking              0\n",
       "cats                 0\n",
       "dogs                 0\n",
       "dtype: int64"
      ]
     },
     "execution_count": 14,
     "metadata": {},
     "output_type": "execute_result"
    }
   ],
   "source": [
    "df.isnull().sum()"
   ]
  },
  {
   "cell_type": "markdown",
   "id": "135969cc-7cc4-4331-b305-413c224731c7",
   "metadata": {},
   "source": [
    "## Visualizing Data & Removing Outliers"
   ]
  },
  {
   "cell_type": "code",
   "execution_count": 16,
   "id": "a1150388-a38a-402e-8639-17a565181eb5",
   "metadata": {},
   "outputs": [],
   "source": [
    "# Removing price outliers\n",
    "\n",
    "q_low = df['price'].quantile(0.01)\n",
    "q_hi  = df['price'].quantile(0.99)\n",
    "\n",
    "df = df[(df['price'] < q_hi) & (df['price'] > q_low)]"
   ]
  },
  {
   "cell_type": "code",
   "execution_count": 17,
   "id": "16f547b9-11ad-4b40-910a-a735f6d75b2d",
   "metadata": {},
   "outputs": [
    {
     "data": {
      "image/png": "[encoded data removed]",
      "text/plain": [
       "<Figure size 640x480 with 1 Axes>"
      ]
     },
     "metadata": {},
     "output_type": "display_data"
    }
   ],
   "source": [
    "# Price and square feet\n",
    "\n",
    "plt.scatter(df['sq_feet'], df['price'])\n",
    "plt.xlabel(\"s1_feet\")\n",
    "plt.ylabel(\"price\")\n",
    "plt.show()"
   ]
  },
  {
   "cell_type": "code",
   "execution_count": 18,
   "id": "534f09ad-bc71-4486-81dc-b4f867d4d378",
   "metadata": {},
   "outputs": [],
   "source": [
    "# Removing square feet outliers\n",
    "\n",
    "q_low = df['sq_feet'].quantile(0.01)\n",
    "q_hi  = df['sq_feet'].quantile(0.99)\n",
    "\n",
    "df = df[(df['sq_feet'] < q_hi) & (df['sq_feet'] > q_low)]"
   ]
  },
  {
   "cell_type": "code",
   "execution_count": 19,
   "id": "dddc88e0-4ef9-4e28-97db-40ec314dd3ab",
   "metadata": {},
   "outputs": [
    {
     "data": {
      "image/png": "[encoded data removed]",
      "text/plain": [
       "<Figure size 640x480 with 1 Axes>"
      ]
     },
     "metadata": {},
     "output_type": "display_data"
    }
   ],
   "source": [
    "# Price and square feet without outliers\n",
    "\n",
    "plt.scatter(df['sq_feet'], df['price'])\n",
    "plt.xlabel(\"s1_feet\")\n",
    "plt.ylabel(\"price\")\n",
    "plt.show()"
   ]
  },
  {
   "cell_type": "code",
   "execution_count": 20,
   "id": "62d0e1ed-0d8a-491d-ae32-e954f678567d",
   "metadata": {},
   "outputs": [
    {
     "data": {
      "image/png": "[encoded data removed]",
      "text/plain": [
       "<Figure size 640x480 with 1 Axes>"
      ]
     },
     "metadata": {},
     "output_type": "display_data"
    }
   ],
   "source": [
    "# Price and baths \n",
    "\n",
    "plt.scatter(df['baths'], df['price'])\n",
    "plt.xlabel(\"baths\")\n",
    "plt.ylabel(\"price\")\n",
    "plt.show()"
   ]
  },
  {
   "cell_type": "code",
   "execution_count": 21,
   "id": "bf9f4de9-dab8-4008-bc58-ad3ac00b7170",
   "metadata": {},
   "outputs": [],
   "source": [
    "# Removing bath outliers\n",
    "\n",
    "q_low = df['baths'].quantile(0.01)\n",
    "q_hi  = df['baths'].quantile(0.99)\n",
    "\n",
    "df = df[(df['baths'] < q_hi) & (df['baths'] > q_low)]"
   ]
  },
  {
   "cell_type": "code",
   "execution_count": 22,
   "id": "20d6ccb7-f1e3-4e23-a0f2-b14a38b1e9cc",
   "metadata": {},
   "outputs": [
    {
     "data": {
      "image/png": "[encoded data removed]",
      "text/plain": [
       "<Figure size 640x480 with 1 Axes>"
      ]
     },
     "metadata": {},
     "output_type": "display_data"
    }
   ],
   "source": [
    "# Price and baths without outliers\n",
    "\n",
    "plt.scatter(df['baths'], df['price'])\n",
    "plt.xlabel(\"baths\")\n",
    "plt.ylabel(\"price\")\n",
    "plt.show()"
   ]
  },
  {
   "cell_type": "code",
   "execution_count": 23,
   "id": "ed530b71-9683-499d-a518-eb4de0d29399",
   "metadata": {},
   "outputs": [
    {
     "data": {
      "image/png": "[encoded data removed]",
      "text/plain": [
       "<Figure size 640x480 with 1 Axes>"
      ]
     },
     "metadata": {},
     "output_type": "display_data"
    }
   ],
   "source": [
    "# Price and beds\n",
    "\n",
    "plt.scatter(df['beds'], df['price'])\n",
    "plt.xlabel(\"beds\")\n",
    "plt.ylabel(\"price\")\n",
    "plt.show()"
   ]
  },
  {
   "cell_type": "code",
   "execution_count": 24,
   "id": "5cd7ebba-bce5-45ac-b0ec-f962e783fe3b",
   "metadata": {},
   "outputs": [],
   "source": [
    "# Removing beds outliers\n",
    "\n",
    "q_low = df['beds'].quantile(0.01)\n",
    "q_hi  = df['beds'].quantile(0.99)\n",
    "\n",
    "df = df[(df['beds'] < q_hi) & (df['beds'] > q_low)]"
   ]
  },
  {
   "cell_type": "code",
   "execution_count": 25,
   "id": "6fd62f5a-2e51-4b4e-a2e7-dce4359452ba",
   "metadata": {},
   "outputs": [
    {
     "data": {
      "image/png": "[encoded data removed]",
      "text/plain": [
       "<Figure size 640x480 with 1 Axes>"
      ]
     },
     "metadata": {},
     "output_type": "display_data"
    }
   ],
   "source": [
    "# Price and beds without outliers\n",
    "\n",
    "plt.scatter(df['beds'], df['price'])\n",
    "plt.xlabel(\"beds\")\n",
    "plt.ylabel(\"price\")\n",
    "plt.show()"
   ]
  },
  {
   "cell_type": "code",
   "execution_count": 26,
   "id": "3ae2529b-f1ba-4aaa-ad22-7acaff76eea4",
   "metadata": {},
   "outputs": [
    {
     "data": {
      "text/plain": [
       "city                 0\n",
       "province             0\n",
       "lease_term           0\n",
       "type                 0\n",
       "price                0\n",
       "beds                 0\n",
       "baths                0\n",
       "sq_feet              0\n",
       "furnishing           0\n",
       "availability_date    0\n",
       "smoking              0\n",
       "cats                 0\n",
       "dogs                 0\n",
       "dtype: int64"
      ]
     },
     "execution_count": 26,
     "metadata": {},
     "output_type": "execute_result"
    }
   ],
   "source": [
    "df.isnull().sum()"
   ]
  },
  {
   "cell_type": "code",
   "execution_count": 27,
   "id": "c9ad07a2-e383-472c-914b-ddb25ff7ee63",
   "metadata": {},
   "outputs": [],
   "source": [
    "df = df.reset_index()"
   ]
  },
  {
   "cell_type": "markdown",
   "id": "556949c1-562e-4cc6-8d32-cf6af74a56f0",
   "metadata": {},
   "source": [
    "## Encoding Data"
   ]
  },
  {
   "cell_type": "code",
   "execution_count": 29,
   "id": "5f236e0e-5010-4727-9058-c1a36343d28f",
   "metadata": {},
   "outputs": [],
   "source": [
    "# Encoding categorical data\n",
    "\n",
    "encoder = OneHotEncoder(drop='first', sparse_output = False)\n",
    "\n",
    "encode_cols = encoder.fit_transform(df[['cats', 'dogs', 'smoking', 'availability_date', 'furnishing', 'type', 'province', 'city', 'lease_term']])\n",
    "\n",
    "new_df = pd.DataFrame(encode_cols, columns= encoder.get_feature_names_out(['cats', 'dogs', 'smoking', 'availability_date', 'furnishing', 'type', 'province', 'city', 'lease_term']))\n",
    "\n",
    "df = df.drop(columns=['cats', 'dogs', 'smoking', 'availability_date', 'furnishing', 'type', 'province', 'city', 'lease_term']).join(new_df)"
   ]
  },
  {
   "cell_type": "markdown",
   "id": "589ed8d4-7b7b-4f50-ba7b-203e2d1263ec",
   "metadata": {},
   "source": [
    "## Feature Selection"
   ]
  },
  {
   "cell_type": "code",
   "execution_count": 31,
   "id": "88dda3dd-a91a-4350-ad42-9a910334c30f",
   "metadata": {},
   "outputs": [
    {
     "data": {
      "text/plain": [
       "price               1.000000\n",
       "city_Toronto        0.485898\n",
       "province_Ontario    0.401469\n",
       "index               0.308589\n",
       "dogs_True           0.182067\n",
       "cats_True           0.172083\n",
       "Name: price, dtype: float64"
      ]
     },
     "execution_count": 31,
     "metadata": {},
     "output_type": "execute_result"
    }
   ],
   "source": [
    "# Price and correlations\n",
    "\n",
    "df.corr(method='pearson')['price'].nlargest(6)"
   ]
  },
  {
   "cell_type": "code",
   "execution_count": 32,
   "id": "5b1b0e08-af68-46cd-918e-5ac569f35cc9",
   "metadata": {},
   "outputs": [],
   "source": [
    "# Selecting features of interest\n",
    "\n",
    "df_filtered = df[['price', 'baths', 'sq_feet', 'beds', 'province_Ontario', 'city_Toronto']]"
   ]
  },
  {
   "cell_type": "code",
   "execution_count": 33,
   "id": "88ceb4cd-eaa0-43aa-9533-8ebdb0c742e1",
   "metadata": {},
   "outputs": [],
   "source": [
    "# Splitting data \n",
    "\n",
    "x = df_filtered.drop('price', axis=1)\n",
    "y = df_filtered['price']"
   ]
  },
  {
   "cell_type": "code",
   "execution_count": 34,
   "id": "d002e841-637d-4ad3-85ab-61ba0b17abcb",
   "metadata": {},
   "outputs": [
    {
     "name": "stderr",
     "output_type": "stream",
     "text": [
      "\n",
      "KeyboardInterrupt\n",
      "\n"
     ]
    }
   ],
   "source": [
    "# Looping over polynomial degrees\n",
    "\n",
    "train_rmse_errors = []\n",
    "test_rmse_errors = []\n",
    "\n",
    "# Loop over polynomial degrees\n",
    "for d in range(1, 16):  \n",
    "    polynomial_converter = PolynomialFeatures(degree=d, include_bias=False)\n",
    "    poly_features = polynomial_converter.fit_transform(x)\n",
    "    \n",
    "    x_train, x_test, y_train, y_test = train_test_split(poly_features, y, test_size=0.15, random_state=1)\n",
    "    \n",
    "    scaler = StandardScaler()\n",
    "    x_train = scaler.fit_transform(x_train)\n",
    "    x_test = scaler.transform(x_test)\n",
    "    \n",
    "    model = LinearRegression()\n",
    "    model.fit(x_train, y_train)\n",
    "    \n",
    "    train_pred = model.predict(x_train)\n",
    "    test_pred = model.predict(x_test)\n",
    "    \n",
    "    train_rmse = np.sqrt(mean_squared_error(y_train, train_pred))\n",
    "    test_rmse = np.sqrt(mean_squared_error(y_test, test_pred))\n",
    "    \n",
    "    train_rmse_errors.append(train_rmse)\n",
    "    test_rmse_errors.append(test_rmse)"
   ]
  },
  {
   "cell_type": "code",
   "execution_count": null,
   "id": "9b348115-2a2a-4b37-987d-8782b471f499",
   "metadata": {},
   "outputs": [],
   "source": [
    "# Train rmse errors\n",
    "train_rmse_errors"
   ]
  },
  {
   "cell_type": "code",
   "execution_count": null,
   "id": "4c100ab4-3dd6-4286-b341-ea1c4f05ffa4",
   "metadata": {},
   "outputs": [],
   "source": [
    "# Test rmse errors\n",
    "test_rmse_errors"
   ]
  },
  {
   "cell_type": "code",
   "execution_count": 35,
   "id": "7b60183f-30e1-44c1-a725-3ff58e650d9b",
   "metadata": {},
   "outputs": [],
   "source": [
    "# Polynomial features \n",
    "\n",
    "poly_converter = PolynomialFeatures(degree=5, include_bias=False)\n",
    "poly_features = poly_converter.fit_transform(x)"
   ]
  },
  {
   "cell_type": "markdown",
   "id": "b890355c-18ef-46ff-9b99-ac8a684804a9",
   "metadata": {},
   "source": [
    "## Train/Test Split"
   ]
  },
  {
   "cell_type": "code",
   "execution_count": 37,
   "id": "62afc0f3-4119-48c9-a2ea-f23be9df00fb",
   "metadata": {},
   "outputs": [],
   "source": [
    "x_train, x_test, y_train, y_test = train_test_split(poly_features, y, test_size=0.15, random_state=1)"
   ]
  },
  {
   "cell_type": "markdown",
   "id": "0c3bb5f9-93e0-4009-af08-70b15357a751",
   "metadata": {},
   "source": [
    "## Scaling Data"
   ]
  },
  {
   "cell_type": "code",
   "execution_count": 39,
   "id": "b10ca019-0e2c-4939-b637-3bf4b8eebd4d",
   "metadata": {},
   "outputs": [],
   "source": [
    "scaler = StandardScaler()\n",
    "x_train = scaler.fit_transform(x_train)\n",
    "x_test = scaler.transform(x_test)"
   ]
  },
  {
   "cell_type": "markdown",
   "id": "cdebff05-7dbc-4d2d-b581-cd1a6b8b20e6",
   "metadata": {},
   "source": [
    "# LassoCV Model"
   ]
  },
  {
   "cell_type": "code",
   "execution_count": 41,
   "id": "776330ba-de8a-44d3-a331-f6b164e43979",
   "metadata": {},
   "outputs": [
    {
     "data": {
      "text/html": [
       "<style>#sk-container-id-1 {color: black;background-color: white;}#sk-container-id-1 pre{padding: 0;}#sk-container-id-1 div.sk-toggleable {background-color: white;}#sk-container-id-1 label.sk-toggleable__label {cursor: pointer;display: block;width: 100%;margin-bottom: 0;padding: 0.3em;box-sizing: border-box;text-align: center;}#sk-container-id-1 label.sk-toggleable__label-arrow:before {content: \"▸\";float: left;margin-right: 0.25em;color: #696969;}#sk-container-id-1 label.sk-toggleable__label-arrow:hover:before {color: black;}#sk-container-id-1 div.sk-estimator:hover label.sk-toggleable__label-arrow:before {color: black;}#sk-container-id-1 div.sk-toggleable__content {max-height: 0;max-width: 0;overflow: hidden;text-align: left;background-color: #f0f8ff;}#sk-container-id-1 div.sk-toggleable__content pre {margin: 0.2em;color: black;border-radius: 0.25em;background-color: #f0f8ff;}#sk-container-id-1 input.sk-toggleable__control:checked~div.sk-toggleable__content {max-height: 200px;max-width: 100%;overflow: auto;}#sk-container-id-1 input.sk-toggleable__control:checked~label.sk-toggleable__label-arrow:before {content: \"▾\";}#sk-container-id-1 div.sk-estimator input.sk-toggleable__control:checked~label.sk-toggleable__label {background-color: #d4ebff;}#sk-container-id-1 div.sk-label input.sk-toggleable__control:checked~label.sk-toggleable__label {background-color: #d4ebff;}#sk-container-id-1 input.sk-hidden--visually {border: 0;clip: rect(1px 1px 1px 1px);clip: rect(1px, 1px, 1px, 1px);height: 1px;margin: -1px;overflow: hidden;padding: 0;position: absolute;width: 1px;}#sk-container-id-1 div.sk-estimator {font-family: monospace;background-color: #f0f8ff;border: 1px dotted black;border-radius: 0.25em;box-sizing: border-box;margin-bottom: 0.5em;}#sk-container-id-1 div.sk-estimator:hover {background-color: #d4ebff;}#sk-container-id-1 div.sk-parallel-item::after {content: \"\";width: 100%;border-bottom: 1px solid gray;flex-grow: 1;}#sk-container-id-1 div.sk-label:hover label.sk-toggleable__label {background-color: #d4ebff;}#sk-container-id-1 div.sk-serial::before {content: \"\";position: absolute;border-left: 1px solid gray;box-sizing: border-box;top: 0;bottom: 0;left: 50%;z-index: 0;}#sk-container-id-1 div.sk-serial {display: flex;flex-direction: column;align-items: center;background-color: white;padding-right: 0.2em;padding-left: 0.2em;position: relative;}#sk-container-id-1 div.sk-item {position: relative;z-index: 1;}#sk-container-id-1 div.sk-parallel {display: flex;align-items: stretch;justify-content: center;background-color: white;position: relative;}#sk-container-id-1 div.sk-item::before, #sk-container-id-1 div.sk-parallel-item::before {content: \"\";position: absolute;border-left: 1px solid gray;box-sizing: border-box;top: 0;bottom: 0;left: 50%;z-index: -1;}#sk-container-id-1 div.sk-parallel-item {display: flex;flex-direction: column;z-index: 1;position: relative;background-color: white;}#sk-container-id-1 div.sk-parallel-item:first-child::after {align-self: flex-end;width: 50%;}#sk-container-id-1 div.sk-parallel-item:last-child::after {align-self: flex-start;width: 50%;}#sk-container-id-1 div.sk-parallel-item:only-child::after {width: 0;}#sk-container-id-1 div.sk-dashed-wrapped {border: 1px dashed gray;margin: 0 0.4em 0.5em 0.4em;box-sizing: border-box;padding-bottom: 0.4em;background-color: white;}#sk-container-id-1 div.sk-label label {font-family: monospace;font-weight: bold;display: inline-block;line-height: 1.2em;}#sk-container-id-1 div.sk-label-container {text-align: center;}#sk-container-id-1 div.sk-container {/* jupyter's `normalize.less` sets `[hidden] { display: none; }` but bootstrap.min.css set `[hidden] { display: none !important; }` so we also need the `!important` here to be able to override the default hidden behavior on the sphinx rendered scikit-learn.org. See: https://github.com/scikit-learn/scikit-learn/issues/21755 */display: inline-block !important;position: relative;}#sk-container-id-1 div.sk-text-repr-fallback {display: none;}</style><div id=\"sk-container-id-1\" class=\"sk-top-container\"><div class=\"sk-text-repr-fallback\"><pre>LassoCV(cv=10, eps=0.01, n_alphas=300)</pre><b>In a Jupyter environment, please rerun this cell to show the HTML representation or trust the notebook. <br />On GitHub, the HTML representation is unable to render, please try loading this page with nbviewer.org.</b></div><div class=\"sk-container\" hidden><div class=\"sk-item\"><div class=\"sk-estimator sk-toggleable\"><input class=\"sk-toggleable__control sk-hidden--visually\" id=\"sk-estimator-id-1\" type=\"checkbox\" checked><label for=\"sk-estimator-id-1\" class=\"sk-toggleable__label sk-toggleable__label-arrow\">LassoCV</label><div class=\"sk-toggleable__content\"><pre>LassoCV(cv=10, eps=0.01, n_alphas=300)</pre></div></div></div></div></div>"
      ],
      "text/plain": [
       "LassoCV(cv=10, eps=0.01, n_alphas=300)"
      ]
     },
     "execution_count": 41,
     "metadata": {},
     "output_type": "execute_result"
    }
   ],
   "source": [
    "# Training model \n",
    "\n",
    "lassocv_mod = LassoCV(eps=0.01,n_alphas=300,cv=10)\n",
    "lassocv_mod.fit(x_train, y_train)"
   ]
  },
  {
   "cell_type": "code",
   "execution_count": 42,
   "id": "be0ff2ba-8886-4685-bd70-5adc7fa9fe64",
   "metadata": {},
   "outputs": [
    {
     "data": {
      "text/plain": [
       "3.469776404529475"
      ]
     },
     "execution_count": 42,
     "metadata": {},
     "output_type": "execute_result"
    }
   ],
   "source": [
    "# Alpha \n",
    "\n",
    "lassocv_mod.alpha_"
   ]
  },
  {
   "cell_type": "code",
   "execution_count": 43,
   "id": "1c72d1d1-190e-4380-b08b-42d91f80436b",
   "metadata": {},
   "outputs": [
    {
     "data": {
      "text/plain": [
       "(407.7275710065149, 316032.7129529515, 562.1678690150759)"
      ]
     },
     "execution_count": 43,
     "metadata": {},
     "output_type": "execute_result"
    }
   ],
   "source": [
    "# Metrics \n",
    "\n",
    "y_pred = lassocv_mod.predict(x_test)\n",
    "\n",
    "MAE = mean_absolute_error(y_test, y_pred)\n",
    "MSE = mean_squared_error(y_test, y_pred)\n",
    "RMSE = np.sqrt(MSE)\n",
    "\n",
    "MAE, MSE, RMSE"
   ]
  },
  {
   "cell_type": "code",
   "execution_count": 44,
   "id": "c65bcee4-20c3-45c7-94dd-8bcedd009ab7",
   "metadata": {},
   "outputs": [
    {
     "data": {
      "text/html": [
       "<div>\n",
       "<style scoped>\n",
       "    .dataframe tbody tr th:only-of-type {\n",
       "        vertical-align: middle;\n",
       "    }\n",
       "\n",
       "    .dataframe tbody tr th {\n",
       "        vertical-align: top;\n",
       "    }\n",
       "\n",
       "    .dataframe thead th {\n",
       "        text-align: right;\n",
       "    }\n",
       "</style>\n",
       "<table border=\"1\" class=\"dataframe\">\n",
       "  <thead>\n",
       "    <tr style=\"text-align: right;\">\n",
       "      <th></th>\n",
       "      <th>Feature</th>\n",
       "      <th>Coefficient</th>\n",
       "    </tr>\n",
       "  </thead>\n",
       "  <tbody>\n",
       "    <tr>\n",
       "      <th>0</th>\n",
       "      <td>baths</td>\n",
       "      <td>1.120724e+02</td>\n",
       "    </tr>\n",
       "    <tr>\n",
       "      <th>1</th>\n",
       "      <td>sq_feet</td>\n",
       "      <td>1.670387e+02</td>\n",
       "    </tr>\n",
       "    <tr>\n",
       "      <th>2</th>\n",
       "      <td>beds</td>\n",
       "      <td>-2.391754e+01</td>\n",
       "    </tr>\n",
       "    <tr>\n",
       "      <th>3</th>\n",
       "      <td>sq_feet city_Toronto</td>\n",
       "      <td>2.050028e+02</td>\n",
       "    </tr>\n",
       "    <tr>\n",
       "      <th>4</th>\n",
       "      <td>beds province_Ontario</td>\n",
       "      <td>9.268795e+01</td>\n",
       "    </tr>\n",
       "    <tr>\n",
       "      <th>5</th>\n",
       "      <td>province_Ontario^2</td>\n",
       "      <td>6.787733e+00</td>\n",
       "    </tr>\n",
       "    <tr>\n",
       "      <th>6</th>\n",
       "      <td>baths sq_feet city_Toronto</td>\n",
       "      <td>5.657573e+01</td>\n",
       "    </tr>\n",
       "    <tr>\n",
       "      <th>7</th>\n",
       "      <td>sq_feet^2 city_Toronto</td>\n",
       "      <td>1.866719e+01</td>\n",
       "    </tr>\n",
       "    <tr>\n",
       "      <th>8</th>\n",
       "      <td>sq_feet beds^2</td>\n",
       "      <td>-6.839458e+01</td>\n",
       "    </tr>\n",
       "    <tr>\n",
       "      <th>9</th>\n",
       "      <td>sq_feet province_Ontario city_Toronto</td>\n",
       "      <td>4.370224e+00</td>\n",
       "    </tr>\n",
       "    <tr>\n",
       "      <th>10</th>\n",
       "      <td>sq_feet city_Toronto^2</td>\n",
       "      <td>5.004567e-14</td>\n",
       "    </tr>\n",
       "    <tr>\n",
       "      <th>11</th>\n",
       "      <td>beds province_Ontario^2</td>\n",
       "      <td>7.798707e+00</td>\n",
       "    </tr>\n",
       "    <tr>\n",
       "      <th>12</th>\n",
       "      <td>province_Ontario^3</td>\n",
       "      <td>6.616083e+00</td>\n",
       "    </tr>\n",
       "    <tr>\n",
       "      <th>13</th>\n",
       "      <td>baths sq_feet province_Ontario city_Toronto</td>\n",
       "      <td>4.918949e+01</td>\n",
       "    </tr>\n",
       "    <tr>\n",
       "      <th>14</th>\n",
       "      <td>baths sq_feet city_Toronto^2</td>\n",
       "      <td>5.687008e-16</td>\n",
       "    </tr>\n",
       "    <tr>\n",
       "      <th>15</th>\n",
       "      <td>sq_feet^2 province_Ontario city_Toronto</td>\n",
       "      <td>4.455826e-02</td>\n",
       "    </tr>\n",
       "    <tr>\n",
       "      <th>16</th>\n",
       "      <td>baths^4 sq_feet</td>\n",
       "      <td>-9.181566e+01</td>\n",
       "    </tr>\n",
       "    <tr>\n",
       "      <th>17</th>\n",
       "      <td>baths^2 sq_feet^2 beds</td>\n",
       "      <td>-6.103172e+01</td>\n",
       "    </tr>\n",
       "    <tr>\n",
       "      <th>18</th>\n",
       "      <td>baths^2 beds^3</td>\n",
       "      <td>8.593521e+01</td>\n",
       "    </tr>\n",
       "    <tr>\n",
       "      <th>19</th>\n",
       "      <td>baths sq_feet^3 province_Ontario</td>\n",
       "      <td>-1.047156e+01</td>\n",
       "    </tr>\n",
       "    <tr>\n",
       "      <th>20</th>\n",
       "      <td>baths sq_feet province_Ontario^2 city_Toronto</td>\n",
       "      <td>1.182116e+01</td>\n",
       "    </tr>\n",
       "    <tr>\n",
       "      <th>21</th>\n",
       "      <td>baths sq_feet province_Ontario city_Toronto^2</td>\n",
       "      <td>6.824409e-15</td>\n",
       "    </tr>\n",
       "    <tr>\n",
       "      <th>22</th>\n",
       "      <td>baths sq_feet city_Toronto^3</td>\n",
       "      <td>5.118307e-15</td>\n",
       "    </tr>\n",
       "    <tr>\n",
       "      <th>23</th>\n",
       "      <td>sq_feet^5</td>\n",
       "      <td>8.476446e+01</td>\n",
       "    </tr>\n",
       "    <tr>\n",
       "      <th>24</th>\n",
       "      <td>sq_feet^2 province_Ontario^2 city_Toronto</td>\n",
       "      <td>5.689091e-02</td>\n",
       "    </tr>\n",
       "    <tr>\n",
       "      <th>25</th>\n",
       "      <td>sq_feet^2 province_Ontario city_Toronto^2</td>\n",
       "      <td>1.137402e-14</td>\n",
       "    </tr>\n",
       "    <tr>\n",
       "      <th>26</th>\n",
       "      <td>sq_feet^2 city_Toronto^3</td>\n",
       "      <td>2.274803e-15</td>\n",
       "    </tr>\n",
       "    <tr>\n",
       "      <th>27</th>\n",
       "      <td>beds^4 city_Toronto</td>\n",
       "      <td>-6.459528e+01</td>\n",
       "    </tr>\n",
       "  </tbody>\n",
       "</table>\n",
       "</div>"
      ],
      "text/plain": [
       "                                          Feature   Coefficient\n",
       "0                                           baths  1.120724e+02\n",
       "1                                         sq_feet  1.670387e+02\n",
       "2                                            beds -2.391754e+01\n",
       "3                            sq_feet city_Toronto  2.050028e+02\n",
       "4                           beds province_Ontario  9.268795e+01\n",
       "5                              province_Ontario^2  6.787733e+00\n",
       "6                      baths sq_feet city_Toronto  5.657573e+01\n",
       "7                          sq_feet^2 city_Toronto  1.866719e+01\n",
       "8                                  sq_feet beds^2 -6.839458e+01\n",
       "9           sq_feet province_Ontario city_Toronto  4.370224e+00\n",
       "10                         sq_feet city_Toronto^2  5.004567e-14\n",
       "11                        beds province_Ontario^2  7.798707e+00\n",
       "12                             province_Ontario^3  6.616083e+00\n",
       "13    baths sq_feet province_Ontario city_Toronto  4.918949e+01\n",
       "14                   baths sq_feet city_Toronto^2  5.687008e-16\n",
       "15        sq_feet^2 province_Ontario city_Toronto  4.455826e-02\n",
       "16                                baths^4 sq_feet -9.181566e+01\n",
       "17                         baths^2 sq_feet^2 beds -6.103172e+01\n",
       "18                                 baths^2 beds^3  8.593521e+01\n",
       "19               baths sq_feet^3 province_Ontario -1.047156e+01\n",
       "20  baths sq_feet province_Ontario^2 city_Toronto  1.182116e+01\n",
       "21  baths sq_feet province_Ontario city_Toronto^2  6.824409e-15\n",
       "22                   baths sq_feet city_Toronto^3  5.118307e-15\n",
       "23                                      sq_feet^5  8.476446e+01\n",
       "24      sq_feet^2 province_Ontario^2 city_Toronto  5.689091e-02\n",
       "25      sq_feet^2 province_Ontario city_Toronto^2  1.137402e-14\n",
       "26                       sq_feet^2 city_Toronto^3  2.274803e-15\n",
       "27                            beds^4 city_Toronto -6.459528e+01"
      ]
     },
     "execution_count": 44,
     "metadata": {},
     "output_type": "execute_result"
    }
   ],
   "source": [
    "# Coefficients\n",
    "\n",
    "lassocv_mod.coef_\n",
    "\n",
    "# Non-zero coefficients\n",
    "\n",
    "poly_names = poly_converter.get_feature_names_out(input_features=x.columns)\n",
    "lasso_coefs = lassocv_mod.coef_\n",
    "non_zero = lasso_coefs != 0\n",
    "\n",
    "non_zero = pd.DataFrame({'Feature': poly_names[non_zero], 'Coefficient': lasso_coefs[non_zero]})\n",
    "\n",
    "non_zero"
   ]
  },
  {
   "cell_type": "markdown",
   "id": "f483c978-2b90-4f1b-94b6-63e530080105",
   "metadata": {},
   "source": [
    "# ElasticNetCV Model"
   ]
  },
  {
   "cell_type": "code",
   "execution_count": 46,
   "id": "aefedeff-2ed6-46c7-b20b-b59ea80140d0",
   "metadata": {},
   "outputs": [
    {
     "data": {
      "text/html": [
       "<style>#sk-container-id-2 {color: black;background-color: white;}#sk-container-id-2 pre{padding: 0;}#sk-container-id-2 div.sk-toggleable {background-color: white;}#sk-container-id-2 label.sk-toggleable__label {cursor: pointer;display: block;width: 100%;margin-bottom: 0;padding: 0.3em;box-sizing: border-box;text-align: center;}#sk-container-id-2 label.sk-toggleable__label-arrow:before {content: \"▸\";float: left;margin-right: 0.25em;color: #696969;}#sk-container-id-2 label.sk-toggleable__label-arrow:hover:before {color: black;}#sk-container-id-2 div.sk-estimator:hover label.sk-toggleable__label-arrow:before {color: black;}#sk-container-id-2 div.sk-toggleable__content {max-height: 0;max-width: 0;overflow: hidden;text-align: left;background-color: #f0f8ff;}#sk-container-id-2 div.sk-toggleable__content pre {margin: 0.2em;color: black;border-radius: 0.25em;background-color: #f0f8ff;}#sk-container-id-2 input.sk-toggleable__control:checked~div.sk-toggleable__content {max-height: 200px;max-width: 100%;overflow: auto;}#sk-container-id-2 input.sk-toggleable__control:checked~label.sk-toggleable__label-arrow:before {content: \"▾\";}#sk-container-id-2 div.sk-estimator input.sk-toggleable__control:checked~label.sk-toggleable__label {background-color: #d4ebff;}#sk-container-id-2 div.sk-label input.sk-toggleable__control:checked~label.sk-toggleable__label {background-color: #d4ebff;}#sk-container-id-2 input.sk-hidden--visually {border: 0;clip: rect(1px 1px 1px 1px);clip: rect(1px, 1px, 1px, 1px);height: 1px;margin: -1px;overflow: hidden;padding: 0;position: absolute;width: 1px;}#sk-container-id-2 div.sk-estimator {font-family: monospace;background-color: #f0f8ff;border: 1px dotted black;border-radius: 0.25em;box-sizing: border-box;margin-bottom: 0.5em;}#sk-container-id-2 div.sk-estimator:hover {background-color: #d4ebff;}#sk-container-id-2 div.sk-parallel-item::after {content: \"\";width: 100%;border-bottom: 1px solid gray;flex-grow: 1;}#sk-container-id-2 div.sk-label:hover label.sk-toggleable__label {background-color: #d4ebff;}#sk-container-id-2 div.sk-serial::before {content: \"\";position: absolute;border-left: 1px solid gray;box-sizing: border-box;top: 0;bottom: 0;left: 50%;z-index: 0;}#sk-container-id-2 div.sk-serial {display: flex;flex-direction: column;align-items: center;background-color: white;padding-right: 0.2em;padding-left: 0.2em;position: relative;}#sk-container-id-2 div.sk-item {position: relative;z-index: 1;}#sk-container-id-2 div.sk-parallel {display: flex;align-items: stretch;justify-content: center;background-color: white;position: relative;}#sk-container-id-2 div.sk-item::before, #sk-container-id-2 div.sk-parallel-item::before {content: \"\";position: absolute;border-left: 1px solid gray;box-sizing: border-box;top: 0;bottom: 0;left: 50%;z-index: -1;}#sk-container-id-2 div.sk-parallel-item {display: flex;flex-direction: column;z-index: 1;position: relative;background-color: white;}#sk-container-id-2 div.sk-parallel-item:first-child::after {align-self: flex-end;width: 50%;}#sk-container-id-2 div.sk-parallel-item:last-child::after {align-self: flex-start;width: 50%;}#sk-container-id-2 div.sk-parallel-item:only-child::after {width: 0;}#sk-container-id-2 div.sk-dashed-wrapped {border: 1px dashed gray;margin: 0 0.4em 0.5em 0.4em;box-sizing: border-box;padding-bottom: 0.4em;background-color: white;}#sk-container-id-2 div.sk-label label {font-family: monospace;font-weight: bold;display: inline-block;line-height: 1.2em;}#sk-container-id-2 div.sk-label-container {text-align: center;}#sk-container-id-2 div.sk-container {/* jupyter's `normalize.less` sets `[hidden] { display: none; }` but bootstrap.min.css set `[hidden] { display: none !important; }` so we also need the `!important` here to be able to override the default hidden behavior on the sphinx rendered scikit-learn.org. See: https://github.com/scikit-learn/scikit-learn/issues/21755 */display: inline-block !important;position: relative;}#sk-container-id-2 div.sk-text-repr-fallback {display: none;}</style><div id=\"sk-container-id-2\" class=\"sk-top-container\"><div class=\"sk-text-repr-fallback\"><pre>ElasticNetCV(eps=0.01, l1_ratio=[0.1, 0.3, 0.5, 0.7, 0.9, 1], max_iter=10000,\n",
       "             n_alphas=200)</pre><b>In a Jupyter environment, please rerun this cell to show the HTML representation or trust the notebook. <br />On GitHub, the HTML representation is unable to render, please try loading this page with nbviewer.org.</b></div><div class=\"sk-container\" hidden><div class=\"sk-item\"><div class=\"sk-estimator sk-toggleable\"><input class=\"sk-toggleable__control sk-hidden--visually\" id=\"sk-estimator-id-2\" type=\"checkbox\" checked><label for=\"sk-estimator-id-2\" class=\"sk-toggleable__label sk-toggleable__label-arrow\">ElasticNetCV</label><div class=\"sk-toggleable__content\"><pre>ElasticNetCV(eps=0.01, l1_ratio=[0.1, 0.3, 0.5, 0.7, 0.9, 1], max_iter=10000,\n",
       "             n_alphas=200)</pre></div></div></div></div></div>"
      ],
      "text/plain": [
       "ElasticNetCV(eps=0.01, l1_ratio=[0.1, 0.3, 0.5, 0.7, 0.9, 1], max_iter=10000,\n",
       "             n_alphas=200)"
      ]
     },
     "execution_count": 46,
     "metadata": {},
     "output_type": "execute_result"
    }
   ],
   "source": [
    "# Training model\n",
    "\n",
    "elasticcv_mod = ElasticNetCV(l1_ratio=[.1, .3, .5, .7, .9, 1], eps=0.01, n_alphas=200, max_iter=10000)\n",
    "\n",
    "elasticcv_mod.fit(x_train, y_train)"
   ]
  },
  {
   "cell_type": "code",
   "execution_count": 47,
   "id": "7192b1be-b220-4cff-8cde-1a51abab1084",
   "metadata": {},
   "outputs": [
    {
     "data": {
      "text/plain": [
       "1.0"
      ]
     },
     "execution_count": 47,
     "metadata": {},
     "output_type": "execute_result"
    }
   ],
   "source": [
    "# Best ratio \n",
    "\n",
    "elasticcv_mod.l1_ratio_"
   ]
  },
  {
   "cell_type": "code",
   "execution_count": 48,
   "id": "4ab315f1-dadc-4e56-ab92-66cd112559ba",
   "metadata": {},
   "outputs": [
    {
     "data": {
      "text/plain": [
       "3.469776404529475"
      ]
     },
     "execution_count": 48,
     "metadata": {},
     "output_type": "execute_result"
    }
   ],
   "source": [
    "# Alpha \n",
    "\n",
    "elasticcv_mod.alpha_"
   ]
  },
  {
   "cell_type": "code",
   "execution_count": 49,
   "id": "0aa72027-5d74-4cfe-85f7-2ded09c09f3b",
   "metadata": {},
   "outputs": [
    {
     "data": {
      "text/html": [
       "<div>\n",
       "<style scoped>\n",
       "    .dataframe tbody tr th:only-of-type {\n",
       "        vertical-align: middle;\n",
       "    }\n",
       "\n",
       "    .dataframe tbody tr th {\n",
       "        vertical-align: top;\n",
       "    }\n",
       "\n",
       "    .dataframe thead th {\n",
       "        text-align: right;\n",
       "    }\n",
       "</style>\n",
       "<table border=\"1\" class=\"dataframe\">\n",
       "  <thead>\n",
       "    <tr style=\"text-align: right;\">\n",
       "      <th></th>\n",
       "      <th>Feature</th>\n",
       "      <th>Coefficient</th>\n",
       "    </tr>\n",
       "  </thead>\n",
       "  <tbody>\n",
       "    <tr>\n",
       "      <th>0</th>\n",
       "      <td>baths</td>\n",
       "      <td>1.120724e+02</td>\n",
       "    </tr>\n",
       "    <tr>\n",
       "      <th>1</th>\n",
       "      <td>sq_feet</td>\n",
       "      <td>1.670387e+02</td>\n",
       "    </tr>\n",
       "    <tr>\n",
       "      <th>2</th>\n",
       "      <td>beds</td>\n",
       "      <td>-2.391754e+01</td>\n",
       "    </tr>\n",
       "    <tr>\n",
       "      <th>3</th>\n",
       "      <td>sq_feet city_Toronto</td>\n",
       "      <td>2.050028e+02</td>\n",
       "    </tr>\n",
       "    <tr>\n",
       "      <th>4</th>\n",
       "      <td>beds province_Ontario</td>\n",
       "      <td>9.268795e+01</td>\n",
       "    </tr>\n",
       "    <tr>\n",
       "      <th>5</th>\n",
       "      <td>province_Ontario^2</td>\n",
       "      <td>6.787733e+00</td>\n",
       "    </tr>\n",
       "    <tr>\n",
       "      <th>6</th>\n",
       "      <td>baths sq_feet city_Toronto</td>\n",
       "      <td>5.657573e+01</td>\n",
       "    </tr>\n",
       "    <tr>\n",
       "      <th>7</th>\n",
       "      <td>sq_feet^2 city_Toronto</td>\n",
       "      <td>1.866719e+01</td>\n",
       "    </tr>\n",
       "    <tr>\n",
       "      <th>8</th>\n",
       "      <td>sq_feet beds^2</td>\n",
       "      <td>-6.839458e+01</td>\n",
       "    </tr>\n",
       "    <tr>\n",
       "      <th>9</th>\n",
       "      <td>sq_feet province_Ontario city_Toronto</td>\n",
       "      <td>4.370224e+00</td>\n",
       "    </tr>\n",
       "    <tr>\n",
       "      <th>10</th>\n",
       "      <td>sq_feet city_Toronto^2</td>\n",
       "      <td>5.004567e-14</td>\n",
       "    </tr>\n",
       "    <tr>\n",
       "      <th>11</th>\n",
       "      <td>beds province_Ontario^2</td>\n",
       "      <td>7.798707e+00</td>\n",
       "    </tr>\n",
       "    <tr>\n",
       "      <th>12</th>\n",
       "      <td>province_Ontario^3</td>\n",
       "      <td>6.616083e+00</td>\n",
       "    </tr>\n",
       "    <tr>\n",
       "      <th>13</th>\n",
       "      <td>baths sq_feet province_Ontario city_Toronto</td>\n",
       "      <td>4.918949e+01</td>\n",
       "    </tr>\n",
       "    <tr>\n",
       "      <th>14</th>\n",
       "      <td>baths sq_feet city_Toronto^2</td>\n",
       "      <td>5.687008e-16</td>\n",
       "    </tr>\n",
       "    <tr>\n",
       "      <th>15</th>\n",
       "      <td>sq_feet^2 province_Ontario city_Toronto</td>\n",
       "      <td>4.455826e-02</td>\n",
       "    </tr>\n",
       "    <tr>\n",
       "      <th>16</th>\n",
       "      <td>baths^4 sq_feet</td>\n",
       "      <td>-9.181566e+01</td>\n",
       "    </tr>\n",
       "    <tr>\n",
       "      <th>17</th>\n",
       "      <td>baths^2 sq_feet^2 beds</td>\n",
       "      <td>-6.103172e+01</td>\n",
       "    </tr>\n",
       "    <tr>\n",
       "      <th>18</th>\n",
       "      <td>baths^2 beds^3</td>\n",
       "      <td>8.593521e+01</td>\n",
       "    </tr>\n",
       "    <tr>\n",
       "      <th>19</th>\n",
       "      <td>baths sq_feet^3 province_Ontario</td>\n",
       "      <td>-1.047156e+01</td>\n",
       "    </tr>\n",
       "    <tr>\n",
       "      <th>20</th>\n",
       "      <td>baths sq_feet province_Ontario^2 city_Toronto</td>\n",
       "      <td>1.182116e+01</td>\n",
       "    </tr>\n",
       "    <tr>\n",
       "      <th>21</th>\n",
       "      <td>baths sq_feet province_Ontario city_Toronto^2</td>\n",
       "      <td>6.824409e-15</td>\n",
       "    </tr>\n",
       "    <tr>\n",
       "      <th>22</th>\n",
       "      <td>baths sq_feet city_Toronto^3</td>\n",
       "      <td>5.118307e-15</td>\n",
       "    </tr>\n",
       "    <tr>\n",
       "      <th>23</th>\n",
       "      <td>sq_feet^5</td>\n",
       "      <td>8.476446e+01</td>\n",
       "    </tr>\n",
       "    <tr>\n",
       "      <th>24</th>\n",
       "      <td>sq_feet^2 province_Ontario^2 city_Toronto</td>\n",
       "      <td>5.689091e-02</td>\n",
       "    </tr>\n",
       "    <tr>\n",
       "      <th>25</th>\n",
       "      <td>sq_feet^2 province_Ontario city_Toronto^2</td>\n",
       "      <td>1.137402e-14</td>\n",
       "    </tr>\n",
       "    <tr>\n",
       "      <th>26</th>\n",
       "      <td>sq_feet^2 city_Toronto^3</td>\n",
       "      <td>2.274803e-15</td>\n",
       "    </tr>\n",
       "    <tr>\n",
       "      <th>27</th>\n",
       "      <td>beds^4 city_Toronto</td>\n",
       "      <td>-6.459528e+01</td>\n",
       "    </tr>\n",
       "  </tbody>\n",
       "</table>\n",
       "</div>"
      ],
      "text/plain": [
       "                                          Feature   Coefficient\n",
       "0                                           baths  1.120724e+02\n",
       "1                                         sq_feet  1.670387e+02\n",
       "2                                            beds -2.391754e+01\n",
       "3                            sq_feet city_Toronto  2.050028e+02\n",
       "4                           beds province_Ontario  9.268795e+01\n",
       "5                              province_Ontario^2  6.787733e+00\n",
       "6                      baths sq_feet city_Toronto  5.657573e+01\n",
       "7                          sq_feet^2 city_Toronto  1.866719e+01\n",
       "8                                  sq_feet beds^2 -6.839458e+01\n",
       "9           sq_feet province_Ontario city_Toronto  4.370224e+00\n",
       "10                         sq_feet city_Toronto^2  5.004567e-14\n",
       "11                        beds province_Ontario^2  7.798707e+00\n",
       "12                             province_Ontario^3  6.616083e+00\n",
       "13    baths sq_feet province_Ontario city_Toronto  4.918949e+01\n",
       "14                   baths sq_feet city_Toronto^2  5.687008e-16\n",
       "15        sq_feet^2 province_Ontario city_Toronto  4.455826e-02\n",
       "16                                baths^4 sq_feet -9.181566e+01\n",
       "17                         baths^2 sq_feet^2 beds -6.103172e+01\n",
       "18                                 baths^2 beds^3  8.593521e+01\n",
       "19               baths sq_feet^3 province_Ontario -1.047156e+01\n",
       "20  baths sq_feet province_Ontario^2 city_Toronto  1.182116e+01\n",
       "21  baths sq_feet province_Ontario city_Toronto^2  6.824409e-15\n",
       "22                   baths sq_feet city_Toronto^3  5.118307e-15\n",
       "23                                      sq_feet^5  8.476446e+01\n",
       "24      sq_feet^2 province_Ontario^2 city_Toronto  5.689091e-02\n",
       "25      sq_feet^2 province_Ontario city_Toronto^2  1.137402e-14\n",
       "26                       sq_feet^2 city_Toronto^3  2.274803e-15\n",
       "27                            beds^4 city_Toronto -6.459528e+01"
      ]
     },
     "execution_count": 49,
     "metadata": {},
     "output_type": "execute_result"
    }
   ],
   "source": [
    "# Coefficients \n",
    "\n",
    "elasticcv_mod.coef_\n",
    "\n",
    "# Non-zero coefficients\n",
    "\n",
    "poly_names = poly_converter.get_feature_names_out(input_features=x.columns)\n",
    "elastic_coefs = elasticcv_mod.coef_\n",
    "non_zeros = elastic_coefs != 0\n",
    "\n",
    "non_zeros = pd.DataFrame({'Feature': poly_names[non_zeros], 'Coefficient': lasso_coefs[non_zeros]})\n",
    "\n",
    "non_zeros"
   ]
  },
  {
   "cell_type": "code",
   "execution_count": 50,
   "id": "22cc9e84-866a-4f89-a411-abc417719094",
   "metadata": {},
   "outputs": [
    {
     "data": {
      "text/plain": [
       "(407.7275710065149, 316032.7129529515, 562.1678690150759)"
      ]
     },
     "execution_count": 50,
     "metadata": {},
     "output_type": "execute_result"
    }
   ],
   "source": [
    "# Metrics\n",
    "\n",
    "y_pred = elasticcv_mod.predict(x_test)\n",
    "\n",
    "MAE = mean_absolute_error(y_test, y_pred)\n",
    "MSE = mean_squared_error(y_test, y_pred)\n",
    "RMSE = np.sqrt(MSE)\n",
    "\n",
    "MAE, MSE, RMSE"
   ]
  },
  {
   "cell_type": "markdown",
   "id": "16434c17-853b-45ec-b94c-ac39c9095318",
   "metadata": {},
   "source": [
    "# GridSearchCV Model"
   ]
  },
  {
   "cell_type": "code",
   "execution_count": 52,
   "id": "4c4dba7d-baa4-47bc-807d-455af3fa5c16",
   "metadata": {},
   "outputs": [],
   "source": [
    "# Choosing more x data \n",
    "\n",
    "df_filtered2 = df[['price', 'baths', 'sq_feet', 'beds', 'province_Ontario', 'city_Toronto', 'type_House', 'city_Vancouver']]"
   ]
  },
  {
   "cell_type": "code",
   "execution_count": 53,
   "id": "57e8841d-540f-41e3-bd5e-4463db3b0cd5",
   "metadata": {},
   "outputs": [
    {
     "data": {
      "text/html": [
       "<div>\n",
       "<style scoped>\n",
       "    .dataframe tbody tr th:only-of-type {\n",
       "        vertical-align: middle;\n",
       "    }\n",
       "\n",
       "    .dataframe tbody tr th {\n",
       "        vertical-align: top;\n",
       "    }\n",
       "\n",
       "    .dataframe thead th {\n",
       "        text-align: right;\n",
       "    }\n",
       "</style>\n",
       "<table border=\"1\" class=\"dataframe\">\n",
       "  <thead>\n",
       "    <tr style=\"text-align: right;\">\n",
       "      <th></th>\n",
       "      <th>price</th>\n",
       "      <th>baths</th>\n",
       "      <th>sq_feet</th>\n",
       "      <th>beds</th>\n",
       "      <th>province_Ontario</th>\n",
       "      <th>city_Toronto</th>\n",
       "      <th>type_House</th>\n",
       "      <th>city_Vancouver</th>\n",
       "    </tr>\n",
       "  </thead>\n",
       "  <tbody>\n",
       "    <tr>\n",
       "      <th>0</th>\n",
       "      <td>2495.0</td>\n",
       "      <td>2.5</td>\n",
       "      <td>1403.0</td>\n",
       "      <td>2</td>\n",
       "      <td>0.0</td>\n",
       "      <td>0.0</td>\n",
       "      <td>0.0</td>\n",
       "      <td>0.0</td>\n",
       "    </tr>\n",
       "    <tr>\n",
       "      <th>1</th>\n",
       "      <td>2695.0</td>\n",
       "      <td>2.5</td>\n",
       "      <td>1496.0</td>\n",
       "      <td>3</td>\n",
       "      <td>0.0</td>\n",
       "      <td>0.0</td>\n",
       "      <td>0.0</td>\n",
       "      <td>0.0</td>\n",
       "    </tr>\n",
       "    <tr>\n",
       "      <th>2</th>\n",
       "      <td>2295.0</td>\n",
       "      <td>2.5</td>\n",
       "      <td>1180.0</td>\n",
       "      <td>2</td>\n",
       "      <td>0.0</td>\n",
       "      <td>0.0</td>\n",
       "      <td>0.0</td>\n",
       "      <td>0.0</td>\n",
       "    </tr>\n",
       "    <tr>\n",
       "      <th>3</th>\n",
       "      <td>2095.0</td>\n",
       "      <td>2.5</td>\n",
       "      <td>1403.0</td>\n",
       "      <td>2</td>\n",
       "      <td>0.0</td>\n",
       "      <td>0.0</td>\n",
       "      <td>0.0</td>\n",
       "      <td>0.0</td>\n",
       "    </tr>\n",
       "    <tr>\n",
       "      <th>4</th>\n",
       "      <td>2495.0</td>\n",
       "      <td>2.5</td>\n",
       "      <td>1403.0</td>\n",
       "      <td>2</td>\n",
       "      <td>0.0</td>\n",
       "      <td>0.0</td>\n",
       "      <td>0.0</td>\n",
       "      <td>0.0</td>\n",
       "    </tr>\n",
       "    <tr>\n",
       "      <th>...</th>\n",
       "      <td>...</td>\n",
       "      <td>...</td>\n",
       "      <td>...</td>\n",
       "      <td>...</td>\n",
       "      <td>...</td>\n",
       "      <td>...</td>\n",
       "      <td>...</td>\n",
       "      <td>...</td>\n",
       "    </tr>\n",
       "    <tr>\n",
       "      <th>7522</th>\n",
       "      <td>2199.0</td>\n",
       "      <td>2.0</td>\n",
       "      <td>1141.0</td>\n",
       "      <td>2</td>\n",
       "      <td>0.0</td>\n",
       "      <td>0.0</td>\n",
       "      <td>0.0</td>\n",
       "      <td>0.0</td>\n",
       "    </tr>\n",
       "    <tr>\n",
       "      <th>7523</th>\n",
       "      <td>2599.0</td>\n",
       "      <td>2.0</td>\n",
       "      <td>1080.0</td>\n",
       "      <td>4</td>\n",
       "      <td>0.0</td>\n",
       "      <td>0.0</td>\n",
       "      <td>0.0</td>\n",
       "      <td>0.0</td>\n",
       "    </tr>\n",
       "    <tr>\n",
       "      <th>7524</th>\n",
       "      <td>2125.0</td>\n",
       "      <td>3.0</td>\n",
       "      <td>1366.0</td>\n",
       "      <td>3</td>\n",
       "      <td>0.0</td>\n",
       "      <td>0.0</td>\n",
       "      <td>0.0</td>\n",
       "      <td>0.0</td>\n",
       "    </tr>\n",
       "    <tr>\n",
       "      <th>7525</th>\n",
       "      <td>2199.0</td>\n",
       "      <td>3.0</td>\n",
       "      <td>1366.0</td>\n",
       "      <td>3</td>\n",
       "      <td>0.0</td>\n",
       "      <td>0.0</td>\n",
       "      <td>0.0</td>\n",
       "      <td>0.0</td>\n",
       "    </tr>\n",
       "    <tr>\n",
       "      <th>7526</th>\n",
       "      <td>2499.0</td>\n",
       "      <td>2.0</td>\n",
       "      <td>1300.0</td>\n",
       "      <td>3</td>\n",
       "      <td>0.0</td>\n",
       "      <td>0.0</td>\n",
       "      <td>0.0</td>\n",
       "      <td>0.0</td>\n",
       "    </tr>\n",
       "  </tbody>\n",
       "</table>\n",
       "<p>7527 rows × 8 columns</p>\n",
       "</div>"
      ],
      "text/plain": [
       "       price  baths  sq_feet  beds  province_Ontario  city_Toronto  \\\n",
       "0     2495.0    2.5   1403.0     2               0.0           0.0   \n",
       "1     2695.0    2.5   1496.0     3               0.0           0.0   \n",
       "2     2295.0    2.5   1180.0     2               0.0           0.0   \n",
       "3     2095.0    2.5   1403.0     2               0.0           0.0   \n",
       "4     2495.0    2.5   1403.0     2               0.0           0.0   \n",
       "...      ...    ...      ...   ...               ...           ...   \n",
       "7522  2199.0    2.0   1141.0     2               0.0           0.0   \n",
       "7523  2599.0    2.0   1080.0     4               0.0           0.0   \n",
       "7524  2125.0    3.0   1366.0     3               0.0           0.0   \n",
       "7525  2199.0    3.0   1366.0     3               0.0           0.0   \n",
       "7526  2499.0    2.0   1300.0     3               0.0           0.0   \n",
       "\n",
       "      type_House  city_Vancouver  \n",
       "0            0.0             0.0  \n",
       "1            0.0             0.0  \n",
       "2            0.0             0.0  \n",
       "3            0.0             0.0  \n",
       "4            0.0             0.0  \n",
       "...          ...             ...  \n",
       "7522         0.0             0.0  \n",
       "7523         0.0             0.0  \n",
       "7524         0.0             0.0  \n",
       "7525         0.0             0.0  \n",
       "7526         0.0             0.0  \n",
       "\n",
       "[7527 rows x 8 columns]"
      ]
     },
     "execution_count": 53,
     "metadata": {},
     "output_type": "execute_result"
    }
   ],
   "source": [
    "# Removing more price outliers\n",
    "\n",
    "df_filtered2.drop(df_filtered2[df_filtered2['price'] == 29990.0].index)"
   ]
  },
  {
   "cell_type": "code",
   "execution_count": 54,
   "id": "0db81c71-b886-4653-b11f-012bd7733d46",
   "metadata": {},
   "outputs": [],
   "source": [
    "# Train/Test Split\n",
    "\n",
    "x = df_filtered2.drop('price', axis=1)\n",
    "y = df_filtered2['price']\n",
    "\n",
    "poly_converter = PolynomialFeatures(degree=5, include_bias=False)\n",
    "poly_features = poly_converter.fit_transform(x)\n",
    "\n",
    "x_train, x_test, y_train, y_test = train_test_split(poly_features, y, test_size=0.15, random_state=1)"
   ]
  },
  {
   "cell_type": "code",
   "execution_count": 55,
   "id": "6e88eb11-5b51-4887-acc0-608500093007",
   "metadata": {},
   "outputs": [],
   "source": [
    "# Scaling data \n",
    "\n",
    "scaler = StandardScaler()\n",
    "x_train = scaler.fit_transform(x_train)\n",
    "x_test = scaler.transform(x_test)"
   ]
  },
  {
   "cell_type": "code",
   "execution_count": 56,
   "id": "3b8cb297-10ab-40ec-801d-782bc9ba02a8",
   "metadata": {},
   "outputs": [],
   "source": [
    "# Base model using Lasso\n",
    "\n",
    "model = LassoCV()"
   ]
  },
  {
   "cell_type": "code",
   "execution_count": 57,
   "id": "63351657-406a-4098-a0cc-4acff3c1b708",
   "metadata": {},
   "outputs": [],
   "source": [
    "# Params\n",
    "\n",
    "params = {'eps':[0.01], 'n_alphas':[200, 250, 300], 'max_iter':[10000]}"
   ]
  },
  {
   "cell_type": "code",
   "execution_count": 58,
   "id": "61a1f699-3ebb-490a-af43-570db599bac3",
   "metadata": {},
   "outputs": [
    {
     "name": "stdout",
     "output_type": "stream",
     "text": [
      "Fitting 10 folds for each of 3 candidates, totalling 30 fits\n"
     ]
    },
    {
     "data": {
      "text/html": [
       "<style>#sk-container-id-3 {color: black;background-color: white;}#sk-container-id-3 pre{padding: 0;}#sk-container-id-3 div.sk-toggleable {background-color: white;}#sk-container-id-3 label.sk-toggleable__label {cursor: pointer;display: block;width: 100%;margin-bottom: 0;padding: 0.3em;box-sizing: border-box;text-align: center;}#sk-container-id-3 label.sk-toggleable__label-arrow:before {content: \"▸\";float: left;margin-right: 0.25em;color: #696969;}#sk-container-id-3 label.sk-toggleable__label-arrow:hover:before {color: black;}#sk-container-id-3 div.sk-estimator:hover label.sk-toggleable__label-arrow:before {color: black;}#sk-container-id-3 div.sk-toggleable__content {max-height: 0;max-width: 0;overflow: hidden;text-align: left;background-color: #f0f8ff;}#sk-container-id-3 div.sk-toggleable__content pre {margin: 0.2em;color: black;border-radius: 0.25em;background-color: #f0f8ff;}#sk-container-id-3 input.sk-toggleable__control:checked~div.sk-toggleable__content {max-height: 200px;max-width: 100%;overflow: auto;}#sk-container-id-3 input.sk-toggleable__control:checked~label.sk-toggleable__label-arrow:before {content: \"▾\";}#sk-container-id-3 div.sk-estimator input.sk-toggleable__control:checked~label.sk-toggleable__label {background-color: #d4ebff;}#sk-container-id-3 div.sk-label input.sk-toggleable__control:checked~label.sk-toggleable__label {background-color: #d4ebff;}#sk-container-id-3 input.sk-hidden--visually {border: 0;clip: rect(1px 1px 1px 1px);clip: rect(1px, 1px, 1px, 1px);height: 1px;margin: -1px;overflow: hidden;padding: 0;position: absolute;width: 1px;}#sk-container-id-3 div.sk-estimator {font-family: monospace;background-color: #f0f8ff;border: 1px dotted black;border-radius: 0.25em;box-sizing: border-box;margin-bottom: 0.5em;}#sk-container-id-3 div.sk-estimator:hover {background-color: #d4ebff;}#sk-container-id-3 div.sk-parallel-item::after {content: \"\";width: 100%;border-bottom: 1px solid gray;flex-grow: 1;}#sk-container-id-3 div.sk-label:hover label.sk-toggleable__label {background-color: #d4ebff;}#sk-container-id-3 div.sk-serial::before {content: \"\";position: absolute;border-left: 1px solid gray;box-sizing: border-box;top: 0;bottom: 0;left: 50%;z-index: 0;}#sk-container-id-3 div.sk-serial {display: flex;flex-direction: column;align-items: center;background-color: white;padding-right: 0.2em;padding-left: 0.2em;position: relative;}#sk-container-id-3 div.sk-item {position: relative;z-index: 1;}#sk-container-id-3 div.sk-parallel {display: flex;align-items: stretch;justify-content: center;background-color: white;position: relative;}#sk-container-id-3 div.sk-item::before, #sk-container-id-3 div.sk-parallel-item::before {content: \"\";position: absolute;border-left: 1px solid gray;box-sizing: border-box;top: 0;bottom: 0;left: 50%;z-index: -1;}#sk-container-id-3 div.sk-parallel-item {display: flex;flex-direction: column;z-index: 1;position: relative;background-color: white;}#sk-container-id-3 div.sk-parallel-item:first-child::after {align-self: flex-end;width: 50%;}#sk-container-id-3 div.sk-parallel-item:last-child::after {align-self: flex-start;width: 50%;}#sk-container-id-3 div.sk-parallel-item:only-child::after {width: 0;}#sk-container-id-3 div.sk-dashed-wrapped {border: 1px dashed gray;margin: 0 0.4em 0.5em 0.4em;box-sizing: border-box;padding-bottom: 0.4em;background-color: white;}#sk-container-id-3 div.sk-label label {font-family: monospace;font-weight: bold;display: inline-block;line-height: 1.2em;}#sk-container-id-3 div.sk-label-container {text-align: center;}#sk-container-id-3 div.sk-container {/* jupyter's `normalize.less` sets `[hidden] { display: none; }` but bootstrap.min.css set `[hidden] { display: none !important; }` so we also need the `!important` here to be able to override the default hidden behavior on the sphinx rendered scikit-learn.org. See: https://github.com/scikit-learn/scikit-learn/issues/21755 */display: inline-block !important;position: relative;}#sk-container-id-3 div.sk-text-repr-fallback {display: none;}</style><div id=\"sk-container-id-3\" class=\"sk-top-container\"><div class=\"sk-text-repr-fallback\"><pre>GridSearchCV(cv=10, estimator=LassoCV(),\n",
       "             param_grid={&#x27;eps&#x27;: [0.01], &#x27;max_iter&#x27;: [10000],\n",
       "                         &#x27;n_alphas&#x27;: [200, 250, 300]},\n",
       "             scoring=&#x27;neg_mean_squared_error&#x27;, verbose=1)</pre><b>In a Jupyter environment, please rerun this cell to show the HTML representation or trust the notebook. <br />On GitHub, the HTML representation is unable to render, please try loading this page with nbviewer.org.</b></div><div class=\"sk-container\" hidden><div class=\"sk-item sk-dashed-wrapped\"><div class=\"sk-label-container\"><div class=\"sk-label sk-toggleable\"><input class=\"sk-toggleable__control sk-hidden--visually\" id=\"sk-estimator-id-3\" type=\"checkbox\" ><label for=\"sk-estimator-id-3\" class=\"sk-toggleable__label sk-toggleable__label-arrow\">GridSearchCV</label><div class=\"sk-toggleable__content\"><pre>GridSearchCV(cv=10, estimator=LassoCV(),\n",
       "             param_grid={&#x27;eps&#x27;: [0.01], &#x27;max_iter&#x27;: [10000],\n",
       "                         &#x27;n_alphas&#x27;: [200, 250, 300]},\n",
       "             scoring=&#x27;neg_mean_squared_error&#x27;, verbose=1)</pre></div></div></div><div class=\"sk-parallel\"><div class=\"sk-parallel-item\"><div class=\"sk-item\"><div class=\"sk-label-container\"><div class=\"sk-label sk-toggleable\"><input class=\"sk-toggleable__control sk-hidden--visually\" id=\"sk-estimator-id-4\" type=\"checkbox\" ><label for=\"sk-estimator-id-4\" class=\"sk-toggleable__label sk-toggleable__label-arrow\">estimator: LassoCV</label><div class=\"sk-toggleable__content\"><pre>LassoCV()</pre></div></div></div><div class=\"sk-serial\"><div class=\"sk-item\"><div class=\"sk-estimator sk-toggleable\"><input class=\"sk-toggleable__control sk-hidden--visually\" id=\"sk-estimator-id-5\" type=\"checkbox\" ><label for=\"sk-estimator-id-5\" class=\"sk-toggleable__label sk-toggleable__label-arrow\">LassoCV</label><div class=\"sk-toggleable__content\"><pre>LassoCV()</pre></div></div></div></div></div></div></div></div></div></div>"
      ],
      "text/plain": [
       "GridSearchCV(cv=10, estimator=LassoCV(),\n",
       "             param_grid={'eps': [0.01], 'max_iter': [10000],\n",
       "                         'n_alphas': [200, 250, 300]},\n",
       "             scoring='neg_mean_squared_error', verbose=1)"
      ]
     },
     "execution_count": 58,
     "metadata": {},
     "output_type": "execute_result"
    }
   ],
   "source": [
    "# Training model\n",
    "\n",
    "grid_mod = GridSearchCV(estimator=model, param_grid=params, scoring='neg_mean_squared_error', cv=10, verbose=1)\n",
    "grid_mod.fit(x_train, y_train)"
   ]
  },
  {
   "cell_type": "code",
   "execution_count": 59,
   "id": "d15cb0d8-cedf-4cd3-923a-3d2860d63206",
   "metadata": {},
   "outputs": [
    {
     "data": {
      "text/html": [
       "<style>#sk-container-id-4 {color: black;background-color: white;}#sk-container-id-4 pre{padding: 0;}#sk-container-id-4 div.sk-toggleable {background-color: white;}#sk-container-id-4 label.sk-toggleable__label {cursor: pointer;display: block;width: 100%;margin-bottom: 0;padding: 0.3em;box-sizing: border-box;text-align: center;}#sk-container-id-4 label.sk-toggleable__label-arrow:before {content: \"▸\";float: left;margin-right: 0.25em;color: #696969;}#sk-container-id-4 label.sk-toggleable__label-arrow:hover:before {color: black;}#sk-container-id-4 div.sk-estimator:hover label.sk-toggleable__label-arrow:before {color: black;}#sk-container-id-4 div.sk-toggleable__content {max-height: 0;max-width: 0;overflow: hidden;text-align: left;background-color: #f0f8ff;}#sk-container-id-4 div.sk-toggleable__content pre {margin: 0.2em;color: black;border-radius: 0.25em;background-color: #f0f8ff;}#sk-container-id-4 input.sk-toggleable__control:checked~div.sk-toggleable__content {max-height: 200px;max-width: 100%;overflow: auto;}#sk-container-id-4 input.sk-toggleable__control:checked~label.sk-toggleable__label-arrow:before {content: \"▾\";}#sk-container-id-4 div.sk-estimator input.sk-toggleable__control:checked~label.sk-toggleable__label {background-color: #d4ebff;}#sk-container-id-4 div.sk-label input.sk-toggleable__control:checked~label.sk-toggleable__label {background-color: #d4ebff;}#sk-container-id-4 input.sk-hidden--visually {border: 0;clip: rect(1px 1px 1px 1px);clip: rect(1px, 1px, 1px, 1px);height: 1px;margin: -1px;overflow: hidden;padding: 0;position: absolute;width: 1px;}#sk-container-id-4 div.sk-estimator {font-family: monospace;background-color: #f0f8ff;border: 1px dotted black;border-radius: 0.25em;box-sizing: border-box;margin-bottom: 0.5em;}#sk-container-id-4 div.sk-estimator:hover {background-color: #d4ebff;}#sk-container-id-4 div.sk-parallel-item::after {content: \"\";width: 100%;border-bottom: 1px solid gray;flex-grow: 1;}#sk-container-id-4 div.sk-label:hover label.sk-toggleable__label {background-color: #d4ebff;}#sk-container-id-4 div.sk-serial::before {content: \"\";position: absolute;border-left: 1px solid gray;box-sizing: border-box;top: 0;bottom: 0;left: 50%;z-index: 0;}#sk-container-id-4 div.sk-serial {display: flex;flex-direction: column;align-items: center;background-color: white;padding-right: 0.2em;padding-left: 0.2em;position: relative;}#sk-container-id-4 div.sk-item {position: relative;z-index: 1;}#sk-container-id-4 div.sk-parallel {display: flex;align-items: stretch;justify-content: center;background-color: white;position: relative;}#sk-container-id-4 div.sk-item::before, #sk-container-id-4 div.sk-parallel-item::before {content: \"\";position: absolute;border-left: 1px solid gray;box-sizing: border-box;top: 0;bottom: 0;left: 50%;z-index: -1;}#sk-container-id-4 div.sk-parallel-item {display: flex;flex-direction: column;z-index: 1;position: relative;background-color: white;}#sk-container-id-4 div.sk-parallel-item:first-child::after {align-self: flex-end;width: 50%;}#sk-container-id-4 div.sk-parallel-item:last-child::after {align-self: flex-start;width: 50%;}#sk-container-id-4 div.sk-parallel-item:only-child::after {width: 0;}#sk-container-id-4 div.sk-dashed-wrapped {border: 1px dashed gray;margin: 0 0.4em 0.5em 0.4em;box-sizing: border-box;padding-bottom: 0.4em;background-color: white;}#sk-container-id-4 div.sk-label label {font-family: monospace;font-weight: bold;display: inline-block;line-height: 1.2em;}#sk-container-id-4 div.sk-label-container {text-align: center;}#sk-container-id-4 div.sk-container {/* jupyter's `normalize.less` sets `[hidden] { display: none; }` but bootstrap.min.css set `[hidden] { display: none !important; }` so we also need the `!important` here to be able to override the default hidden behavior on the sphinx rendered scikit-learn.org. See: https://github.com/scikit-learn/scikit-learn/issues/21755 */display: inline-block !important;position: relative;}#sk-container-id-4 div.sk-text-repr-fallback {display: none;}</style><div id=\"sk-container-id-4\" class=\"sk-top-container\"><div class=\"sk-text-repr-fallback\"><pre>LassoCV(eps=0.01, max_iter=10000, n_alphas=200)</pre><b>In a Jupyter environment, please rerun this cell to show the HTML representation or trust the notebook. <br />On GitHub, the HTML representation is unable to render, please try loading this page with nbviewer.org.</b></div><div class=\"sk-container\" hidden><div class=\"sk-item\"><div class=\"sk-estimator sk-toggleable\"><input class=\"sk-toggleable__control sk-hidden--visually\" id=\"sk-estimator-id-6\" type=\"checkbox\" checked><label for=\"sk-estimator-id-6\" class=\"sk-toggleable__label sk-toggleable__label-arrow\">LassoCV</label><div class=\"sk-toggleable__content\"><pre>LassoCV(eps=0.01, max_iter=10000, n_alphas=200)</pre></div></div></div></div></div>"
      ],
      "text/plain": [
       "LassoCV(eps=0.01, max_iter=10000, n_alphas=200)"
      ]
     },
     "execution_count": 59,
     "metadata": {},
     "output_type": "execute_result"
    }
   ],
   "source": [
    "# Best estimator\n",
    "\n",
    "grid_mod.best_estimator_"
   ]
  },
  {
   "cell_type": "code",
   "execution_count": 60,
   "id": "ee5f5c76-2f26-4d2c-879b-eca7b6157dc6",
   "metadata": {},
   "outputs": [
    {
     "data": {
      "text/plain": [
       "(394.52982431724746, 292736.9177916873, 541.0516775611063)"
      ]
     },
     "execution_count": 60,
     "metadata": {},
     "output_type": "execute_result"
    }
   ],
   "source": [
    "# Metrics\n",
    "\n",
    "y_pred = grid_mod.predict(x_test)\n",
    "\n",
    "# Obtain metrics\n",
    "MAE = mean_absolute_error(y_test, y_pred)\n",
    "MSE = mean_squared_error(y_test, y_pred)\n",
    "RMSE = np.sqrt(MSE)\n",
    "\n",
    "MAE, MSE, RMSE"
   ]
  },
  {
   "cell_type": "code",
   "execution_count": 128,
   "id": "0ae20f91-9def-44e1-b53c-27ac1b0195c6",
   "metadata": {},
   "outputs": [
    {
     "data": {
      "text/plain": [
       "array([83033.68045735,  2620.56048148,  2620.56048148,  2620.56048148,\n",
       "        2620.56048148,  2620.56048148,  2620.56048148,  2620.56048148,\n",
       "        2620.56048148,  2620.56048148,  2620.56048148,  2620.56048148,\n",
       "        2620.56048148,  2620.56048148,  2620.56048148,  2620.56048148,\n",
       "        2620.56048148,  2620.56048148,  2620.56048148,  2620.56048148,\n",
       "        2620.56048148,  2620.56048148,  2620.56048148,  2620.56048148,\n",
       "        2620.56048148,  2620.56048148,  2620.56048148,  2620.56048148,\n",
       "        2620.56048148,  2620.56048148,  2620.56048148,  2620.56048148,\n",
       "        2620.56048148,  2620.56048148,  2620.56048148,  2620.56048148,\n",
       "        2620.56048148,  2620.56048148,  2620.56048148,  2620.56048148,\n",
       "        2620.56048148,  2620.56048148,  2620.56048148,  2620.56048148,\n",
       "        2620.56048148,  2620.56048148,  2620.56048148,  2620.56048148,\n",
       "        2620.56048148,  2620.56048148,  2620.56048148,  2620.56048148,\n",
       "        2620.56048148,  2620.56048148,  2620.56048148,  2620.56048148,\n",
       "        2620.56048148,  2620.56048148,  2620.56048148,  2620.56048148,\n",
       "        2620.56048148,  2620.56048148,  2620.56048148,  2620.56048148,\n",
       "        2620.56048148,  2620.56048148,  2620.56048148,  2620.56048148,\n",
       "        2620.56048148,  2620.56048148,  2620.56048148,  2620.56048148,\n",
       "        2620.56048148,  2620.56048148,  2620.56048148,  2620.56048148,\n",
       "        2620.56048148,  2620.56048148,  2620.56048148,  2620.56048148,\n",
       "        2620.56048148,  2620.56048148,  2620.56048148,  2620.56048148,\n",
       "        2620.56048148,  2620.56048148,  2620.56048148,  2620.56048148,\n",
       "        2620.56048148,  2620.56048148,  2620.56048148,  2620.56048148,\n",
       "        2620.56048148,  2620.56048148,  2620.56048148,  2620.56048148,\n",
       "        2620.56048148,  2620.56048148,  2620.56048148,  2620.56048148,\n",
       "        2620.56048148,  2620.56048148,  2620.56048148,  2620.56048148,\n",
       "        2620.56048148,  2620.56048148,  2620.56048148,  2620.56048148,\n",
       "        2620.56048148,  2620.56048148,  2620.56048148,  2620.56048148,\n",
       "        2620.56048148,  2620.56048148,  2620.56048148,  2620.56048148,\n",
       "        2620.56048148,  2620.56048148,  2620.56048148,  2620.56048148,\n",
       "        2620.56048148,  2620.56048148,  2620.56048148,  2620.56048148,\n",
       "        2620.56048148,  2620.56048148,  2620.56048148,  2620.56048148,\n",
       "        2620.56048148,  2620.56048148,  2620.56048148,  2620.56048148,\n",
       "        2620.56048148,  2620.56048148,  2620.56048148,  2620.56048148,\n",
       "        2620.56048148,  2620.56048148,  2620.56048148,  2620.56048148,\n",
       "        2620.56048148,  2620.56048148,  2620.56048148,  2620.56048148,\n",
       "        2620.56048148,  2620.56048148,  2620.56048148,  2620.56048148,\n",
       "        2620.56048148,  2620.56048148,  2620.56048148,  2620.56048148,\n",
       "        2620.56048148,  2620.56048148,  2620.56048148,  2620.56048148,\n",
       "        2620.56048148,  2620.56048148,  2620.56048148,  2620.56048148,\n",
       "        2620.56048148,  2620.56048148,  2620.56048148,  2620.56048148,\n",
       "        2620.56048148,  2620.56048148,  2620.56048148,  2620.56048148,\n",
       "        2620.56048148,  2620.56048148,  2620.56048148,  2620.56048148,\n",
       "        2620.56048148,  2620.56048148,  2620.56048148,  2620.56048148,\n",
       "        2620.56048148,  2620.56048148,  2620.56048148,  2620.56048148,\n",
       "        2620.56048148,  2620.56048148,  2620.56048148,  2620.56048148,\n",
       "        2620.56048148,  2620.56048148,  2620.56048148,  2620.56048148,\n",
       "        2620.56048148,  2620.56048148,  2620.56048148,  2620.56048148,\n",
       "        2620.56048148,  2620.56048148,  2620.56048148,  2620.56048148,\n",
       "        2620.56048148,  2620.56048148,  2620.56048148,  2620.56048148,\n",
       "        2620.56048148,  2620.56048148,  2620.56048148,  2620.56048148,\n",
       "        2620.56048148,  2620.56048148,  2620.56048148,  2620.56048148,\n",
       "        2620.56048148,  2620.56048148,  2620.56048148,  2620.56048148,\n",
       "        2620.56048148,  2620.56048148,  2620.56048148,  2620.56048148,\n",
       "        2620.56048148,  2620.56048148,  2620.56048148,  2620.56048148,\n",
       "        2620.56048148,  2620.56048148,  2620.56048148,  2620.56048148,\n",
       "        2620.56048148,  2620.56048148,  2620.56048148,  2620.56048148,\n",
       "        2620.56048148,  2620.56048148,  2620.56048148,  2620.56048148,\n",
       "        2620.56048148,  2620.56048148,  2620.56048148,  2620.56048148,\n",
       "        2620.56048148,  2620.56048148,  2620.56048148,  2620.56048148,\n",
       "        2620.56048148,  2620.56048148,  2620.56048148,  2620.56048148,\n",
       "        2620.56048148,  2620.56048148,  2620.56048148,  2620.56048148,\n",
       "        2620.56048148,  2620.56048148,  2620.56048148,  2620.56048148,\n",
       "        2620.56048148,  2620.56048148,  2620.56048148,  2620.56048148,\n",
       "        2620.56048148,  2620.56048148,  2620.56048148,  2620.56048148,\n",
       "        2620.56048148,  2620.56048148,  2620.56048148,  2620.56048148,\n",
       "        2620.56048148,  2620.56048148,  2620.56048148,  2620.56048148,\n",
       "        2620.56048148,  2620.56048148,  2620.56048148,  2620.56048148,\n",
       "        2620.56048148,  2620.56048148,  2620.56048148,  2620.56048148,\n",
       "        2620.56048148,  2620.56048148,  2620.56048148,  2620.56048148,\n",
       "        2620.56048148,  2620.56048148,  2620.56048148,  2620.56048148,\n",
       "        2620.56048148,  2620.56048148,  2620.56048148,  2620.56048148,\n",
       "        2620.56048148,  2620.56048148,  2620.56048148,  2620.56048148,\n",
       "        2620.56048148,  2620.56048148,  2620.56048148,  2620.56048148,\n",
       "        2620.56048148,  2620.56048148,  2620.56048148,  2620.56048148,\n",
       "        2620.56048148,  2620.56048148,  2620.56048148,  2620.56048148,\n",
       "        2620.56048148,  2620.56048148,  2620.56048148,  2620.56048148,\n",
       "        2620.56048148,  2620.56048148,  2620.56048148,  2620.56048148,\n",
       "        2620.56048148,  2620.56048148,  2620.56048148,  2620.56048148,\n",
       "        2620.56048148,  2620.56048148,  2620.56048148,  2620.56048148,\n",
       "        2620.56048148,  2620.56048148,  2620.56048148,  2620.56048148,\n",
       "        2620.56048148,  2620.56048148,  2620.56048148,  2620.56048148,\n",
       "        2620.56048148,  2620.56048148,  2620.56048148,  2620.56048148,\n",
       "        2620.56048148,  2620.56048148,  2620.56048148,  2620.56048148,\n",
       "        2620.56048148,  2620.56048148,  2620.56048148,  2620.56048148,\n",
       "        2620.56048148,  2620.56048148,  2620.56048148,  2620.56048148,\n",
       "        2620.56048148,  2620.56048148,  2620.56048148,  2620.56048148,\n",
       "        2620.56048148,  2620.56048148,  2620.56048148,  2620.56048148,\n",
       "        2620.56048148,  2620.56048148,  2620.56048148,  2620.56048148,\n",
       "        2620.56048148,  2620.56048148,  2620.56048148,  2620.56048148,\n",
       "        2620.56048148,  2620.56048148,  2620.56048148,  2620.56048148,\n",
       "        2620.56048148,  2620.56048148,  2620.56048148,  2620.56048148,\n",
       "        2620.56048148,  2620.56048148,  2620.56048148,  2620.56048148,\n",
       "        2620.56048148,  2620.56048148,  2620.56048148,  2620.56048148,\n",
       "        2620.56048148,  2620.56048148,  2620.56048148,  2620.56048148,\n",
       "        2620.56048148,  2620.56048148,  2620.56048148,  2620.56048148,\n",
       "        2620.56048148,  2620.56048148,  2620.56048148,  2620.56048148,\n",
       "        2620.56048148,  2620.56048148,  2620.56048148,  2620.56048148,\n",
       "        2620.56048148,  2620.56048148,  2620.56048148,  2620.56048148,\n",
       "        2620.56048148,  2620.56048148,  2620.56048148,  2620.56048148,\n",
       "        2620.56048148,  2620.56048148,  2620.56048148,  2620.56048148,\n",
       "        2620.56048148,  2620.56048148,  2620.56048148,  2620.56048148,\n",
       "        2620.56048148,  2620.56048148,  2620.56048148,  2620.56048148,\n",
       "        2620.56048148,  2620.56048148,  2620.56048148,  2620.56048148,\n",
       "        2620.56048148,  2620.56048148,  2620.56048148,  2620.56048148,\n",
       "        2620.56048148,  2620.56048148,  2620.56048148,  2620.56048148,\n",
       "        2620.56048148,  2620.56048148,  2620.56048148,  2620.56048148,\n",
       "        2620.56048148,  2620.56048148,  2620.56048148,  2620.56048148,\n",
       "        2620.56048148,  2620.56048148,  2620.56048148,  2620.56048148,\n",
       "        2620.56048148,  2620.56048148,  2620.56048148,  2620.56048148,\n",
       "        2620.56048148,  2620.56048148,  2620.56048148,  2620.56048148,\n",
       "        2620.56048148,  2620.56048148,  2620.56048148,  2620.56048148,\n",
       "        2620.56048148,  2620.56048148,  2620.56048148,  2620.56048148,\n",
       "        2620.56048148,  2620.56048148,  2620.56048148,  2620.56048148,\n",
       "        2620.56048148,  2620.56048148,  2620.56048148,  2620.56048148,\n",
       "        2620.56048148,  2620.56048148,  2620.56048148,  2620.56048148,\n",
       "        2620.56048148,  2620.56048148,  2620.56048148,  2620.56048148,\n",
       "        2620.56048148,  2620.56048148,  2620.56048148,  2620.56048148,\n",
       "        2620.56048148,  2620.56048148,  2620.56048148,  2620.56048148,\n",
       "        2620.56048148,  2620.56048148,  2620.56048148,  2620.56048148,\n",
       "        2620.56048148,  2620.56048148,  2620.56048148,  2620.56048148,\n",
       "        2620.56048148,  2620.56048148,  2620.56048148,  2620.56048148,\n",
       "        2620.56048148,  2620.56048148,  2620.56048148,  2620.56048148,\n",
       "        2620.56048148,  2620.56048148,  2620.56048148,  2620.56048148,\n",
       "        2620.56048148,  2620.56048148,  2620.56048148,  2620.56048148,\n",
       "        2620.56048148,  2620.56048148,  2620.56048148,  2620.56048148,\n",
       "        2620.56048148,  2620.56048148,  2620.56048148,  2620.56048148,\n",
       "        2620.56048148,  2620.56048148,  2620.56048148,  2620.56048148,\n",
       "        2620.56048148,  2620.56048148,  2620.56048148,  2620.56048148,\n",
       "        2620.56048148,  2620.56048148,  2620.56048148,  2620.56048148,\n",
       "        2620.56048148,  2620.56048148,  2620.56048148,  2620.56048148,\n",
       "        2620.56048148,  2620.56048148,  2620.56048148,  2620.56048148,\n",
       "        2620.56048148,  2620.56048148,  2620.56048148,  2620.56048148,\n",
       "        2620.56048148,  2620.56048148,  2620.56048148,  2620.56048148,\n",
       "        2620.56048148,  2620.56048148,  2620.56048148,  2620.56048148,\n",
       "        2620.56048148,  2620.56048148,  2620.56048148,  2620.56048148,\n",
       "        2620.56048148,  2620.56048148,  2620.56048148,  2620.56048148,\n",
       "        2620.56048148,  2620.56048148,  2620.56048148,  2620.56048148,\n",
       "        2620.56048148,  2620.56048148,  2620.56048148,  2620.56048148,\n",
       "        2620.56048148,  2620.56048148,  2620.56048148,  2620.56048148,\n",
       "        2620.56048148,  2620.56048148,  2620.56048148,  2620.56048148,\n",
       "        2620.56048148,  2620.56048148,  2620.56048148,  2620.56048148,\n",
       "        2620.56048148,  2620.56048148,  2620.56048148,  2620.56048148,\n",
       "        2620.56048148,  2620.56048148,  2620.56048148,  2620.56048148,\n",
       "        2620.56048148,  2620.56048148,  2620.56048148,  2620.56048148,\n",
       "        2620.56048148,  2620.56048148,  2620.56048148,  2620.56048148,\n",
       "        2620.56048148,  2620.56048148,  2620.56048148,  2620.56048148,\n",
       "        2620.56048148,  2620.56048148,  2620.56048148,  2620.56048148,\n",
       "        2620.56048148,  2620.56048148,  2620.56048148,  2620.56048148,\n",
       "        2620.56048148,  2620.56048148,  2620.56048148,  2620.56048148,\n",
       "        2620.56048148,  2620.56048148,  2620.56048148,  2620.56048148,\n",
       "        2620.56048148,  2620.56048148,  2620.56048148,  2620.56048148,\n",
       "        2620.56048148,  2620.56048148,  2620.56048148,  2620.56048148,\n",
       "        2620.56048148,  2620.56048148,  2620.56048148,  2620.56048148,\n",
       "        2620.56048148,  2620.56048148,  2620.56048148,  2620.56048148,\n",
       "        2620.56048148,  2620.56048148,  2620.56048148,  2620.56048148,\n",
       "        2620.56048148,  2620.56048148,  2620.56048148,  2620.56048148,\n",
       "        2620.56048148,  2620.56048148,  2620.56048148,  2620.56048148,\n",
       "        2620.56048148,  2620.56048148,  2620.56048148,  2620.56048148,\n",
       "        2620.56048148,  2620.56048148,  2620.56048148,  2620.56048148,\n",
       "        2620.56048148,  2620.56048148,  2620.56048148,  2620.56048148,\n",
       "        2620.56048148,  2620.56048148,  2620.56048148,  2620.56048148,\n",
       "        2620.56048148,  2620.56048148,  2620.56048148,  2620.56048148,\n",
       "        2620.56048148,  2620.56048148,  2620.56048148,  2620.56048148,\n",
       "        2620.56048148,  2620.56048148,  2620.56048148,  2620.56048148,\n",
       "        2620.56048148,  2620.56048148,  2620.56048148,  2620.56048148,\n",
       "        2620.56048148,  2620.56048148,  2620.56048148,  2620.56048148,\n",
       "        2620.56048148,  2620.56048148,  2620.56048148,  2620.56048148,\n",
       "        2620.56048148,  2620.56048148,  2620.56048148,  2620.56048148,\n",
       "        2620.56048148,  2620.56048148,  2620.56048148,  2620.56048148,\n",
       "        2620.56048148,  2620.56048148,  2620.56048148,  2620.56048148,\n",
       "        2620.56048148,  2620.56048148,  2620.56048148,  2620.56048148,\n",
       "        2620.56048148,  2620.56048148,  2620.56048148,  2620.56048148,\n",
       "        2620.56048148,  2620.56048148,  2620.56048148,  2620.56048148,\n",
       "        2620.56048148,  2620.56048148,  2620.56048148,  2620.56048148,\n",
       "        2620.56048148,  2620.56048148,  2620.56048148,  2620.56048148,\n",
       "        2620.56048148,  2620.56048148,  2620.56048148,  2620.56048148,\n",
       "        2620.56048148,  2620.56048148,  2620.56048148,  2620.56048148,\n",
       "        2620.56048148,  2620.56048148,  2620.56048148,  2620.56048148,\n",
       "        2620.56048148,  2620.56048148,  2620.56048148,  2620.56048148,\n",
       "        2620.56048148,  2620.56048148,  2620.56048148,  2620.56048148,\n",
       "        2620.56048148,  2620.56048148,  2620.56048148,  2620.56048148,\n",
       "        2620.56048148,  2620.56048148,  2620.56048148,  2620.56048148,\n",
       "        2620.56048148,  2620.56048148,  2620.56048148,  2620.56048148,\n",
       "        2620.56048148,  2620.56048148,  2620.56048148,  2620.56048148,\n",
       "        2620.56048148,  2620.56048148,  2620.56048148,  2620.56048148,\n",
       "        2620.56048148,  2620.56048148,  2620.56048148,  2620.56048148,\n",
       "        2620.56048148,  2620.56048148,  2620.56048148,  2620.56048148,\n",
       "        2620.56048148,  2620.56048148,  2620.56048148,  2620.56048148,\n",
       "        2620.56048148,  2620.56048148,  2620.56048148,  2620.56048148,\n",
       "        2620.56048148,  2620.56048148,  2620.56048148,  2620.56048148,\n",
       "        2620.56048148,  2620.56048148,  2620.56048148,  2620.56048148,\n",
       "        2620.56048148,  2620.56048148,  2620.56048148,  2620.56048148,\n",
       "        2620.56048148,  2620.56048148,  2620.56048148,  2620.56048148,\n",
       "        2620.56048148,  2620.56048148,  2620.56048148,  2620.56048148,\n",
       "        2620.56048148,  2620.56048148,  2620.56048148,  2620.56048148,\n",
       "        2620.56048148])"
      ]
     },
     "execution_count": 128,
     "metadata": {},
     "output_type": "execute_result"
    }
   ],
   "source": [
    "# Predictive evaluation using other data from RentFaster.ca\n",
    "\n",
    "# Sample used: Price: 2343, baths: 1, sq_feet: 483, beds: 1, province_Ontario: 1, city_Toronto: 1, type_House: 0, city_Vancouver: 0\n",
    "\n",
    "my_data = np.array([1, 438, 1, 1, 1, 0, 0]).reshape(1, -1)\n",
    "\n",
    "my_data = np.pad(my_data, (0, 784), 'constant')\n",
    "\n",
    "grid_mod.predict(my_data)"
   ]
  }
 ],
 "metadata": {
  "kernelspec": {
   "display_name": "Python 3 (ipykernel)",
   "language": "python",
   "name": "python3"
  },
  "language_info": {
   "codemirror_mode": {
    "name": "ipython",
    "version": 3
   },
   "file_extension": ".py",
   "mimetype": "text/x-python",
   "name": "python",
   "nbconvert_exporter": "python",
   "pygments_lexer": "ipython3",
   "version": "3.11.7"
  }
 },
 "nbformat": 4,
 "nbformat_minor": 5
}
